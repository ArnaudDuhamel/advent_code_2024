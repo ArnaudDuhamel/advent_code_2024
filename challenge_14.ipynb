{
 "cells": [
  {
   "cell_type": "markdown",
   "id": "e795cc74",
   "metadata": {},
   "source": [
    "# Advent of code 2024\n",
    "## Challenge 14"
   ]
  },
  {
   "cell_type": "markdown",
   "id": "8bcb50d8",
   "metadata": {},
   "source": [
    "For part 2 of the challenge, I was actually quite confused about the problem. I first thought that the easter egg would appear within the 100 first iteerations. So I printed the 100 iterations in a file and looked at them manually. I was not seeing anything that really looked like a christmas tree. But then I was also not sure what shape it would actually be. So I was even confused about what I should look for. And then I thought for a while that some of the iterations before 100 were the answers so I tried those. But then it was the wrong answer everytime. So then I was litterally stuck. Even focusing on it hard, not even an idea was coming up. So I looked for help on Reddit. \n",
    "\n",
    "That's when I saw comments that the answer was well abvoe 100. Then I reread the description and there was nothing mentioned about restricting it to 100 iterations. So ok. But then it was unthinkable for me to start looking at the print of the iterations manually. And I still wasn't even sure what the actual answer should look like. Other users were refering about an automated check to find the right iteration and I had no idea on how to proceed. Really no clue. Completely blank.\n",
    "\n",
    "So I looked in the comment some more and I dared to revealed a darkened text that basically revealed the answer. The user counted the amount of 3x3 clusters of non-empty positions. One user mentioned that it did not work for him. So then I decided to go with 2x2 clusters. The idea is that there would be a bunch of occupied positions next to each other when the easter egg would be displayed. And to maximize the amount of clusters, I went throug the list one index at a time. So that a cluster of 3x3 would return 2 2x2 clusters. \n",
    "\n",
    "But then I didn't really have any idea of how many clusters would reveal the answer. \n",
    "\n",
    "So I started to check for those clusters at every iteration. Most of them literally had no clusters. None. So I started ignoring those. For most iterations that had more then 0, they had between 1 and 3 clusters only. Not much. But then suddenly there was an iteration with 174 clusters. That was it. I had found it. I printed the outcome of that maze on file and say a full fledged christmas tree in a frame. Exactly what a christmas tree should look like. "
   ]
  },
  {
   "cell_type": "markdown",
   "id": "cac8035e",
   "metadata": {},
   "source": [
    "## Part 1\n",
    "### https://adventofcode.com/2024/day/14"
   ]
  },
  {
   "cell_type": "code",
   "execution_count": 1,
   "id": "9b544240",
   "metadata": {},
   "outputs": [],
   "source": [
    "# The class has data regarding the maze and the methods to check if they are in one of the quadrants\n",
    "class Maze:\n",
    "  def __init__(self, width,height):\n",
    "    self.width = width\n",
    "    self.height = height\n",
    "    self.middle_horizontal = int(self.width/2)\n",
    "    self.middle_vertical = int(self.height/2)\n",
    "    \n",
    "  def is_in_top_left_quadrant(self,position):\n",
    "        return 0 <= position[1] < self.middle_vertical and 0 <= position[0] < self.middle_horizontal\n",
    "    \n",
    "  def is_in_top_right_quadrant(self,position):\n",
    "        return 0 <= position[1] < self.middle_vertical and self.middle_horizontal < position[0] < self.width\n",
    "    \n",
    "  def is_in_bottom_left_quadrant(self,position):\n",
    "        return self.middle_vertical < position[1] <= self.height and 0 <= position[0] < self.middle_horizontal\n",
    "  \n",
    "  def is_in_bottom_right_quadrant(self,position):\n",
    "        return self.middle_vertical < position[1] <= self.height and self.middle_horizontal < position[0] <= self.width\n",
    "    "
   ]
  },
  {
   "cell_type": "code",
   "execution_count": 2,
   "id": "15727942",
   "metadata": {},
   "outputs": [
    {
     "name": "stdout",
     "output_type": "stream",
     "text": [
      "229839456\n"
     ]
    }
   ],
   "source": [
    "import re\n",
    "\n",
    "# Reading the data input file\n",
    "input_file = open(\"challenge_14_input.txt\", \"r\")\n",
    "maze = Maze(101,103)\n",
    "seconds = 100\n",
    "total_top_left_qudrant = 0\n",
    "total_top_right_qudrant = 0\n",
    "total_bottom_left_qudrant = 0\n",
    "total_bottom_right_qudrant = 0\n",
    "\n",
    "for line in input_file:\n",
    "    input_data = line.strip()\n",
    "    # The regex catches numbers and potential minus symbol before them for negative numbers\n",
    "    numbers = re.findall(r'-?\\d+', input_data)\n",
    "    \n",
    "    # convert everything in ints\n",
    "    for i in range(len(numbers)):\n",
    "        numbers[i] = int(numbers[i])\n",
    "        \n",
    "    # calculate the final position of each unit based on the number of seconds. Here, modulo is used instead of a loop.\n",
    "    # the modulo wraps the positions along the edges the maze\n",
    "    final_position = [(numbers[0] + (numbers[2] * seconds)) % maze.width,(numbers[1] + (numbers[3] * seconds)) % maze.height]\n",
    "    \n",
    "    # We then check which quadrant the position is in\n",
    "    if maze.is_in_top_left_quadrant(final_position):\n",
    "        total_top_left_qudrant += 1\n",
    "    elif maze.is_in_top_right_quadrant(final_position):\n",
    "        total_top_right_qudrant += 1\n",
    "    elif maze.is_in_bottom_left_quadrant(final_position):\n",
    "        total_bottom_left_qudrant += 1\n",
    "    elif maze.is_in_bottom_right_quadrant(final_position):\n",
    "        total_bottom_right_qudrant += 1\n",
    "\n",
    "# output the multiplied value of the quadrants together which is the answer\n",
    "print(total_top_left_qudrant * total_top_right_qudrant * total_bottom_left_qudrant * total_bottom_right_qudrant)"
   ]
  },
  {
   "cell_type": "markdown",
   "id": "184e2954",
   "metadata": {},
   "source": [
    "## Part 2"
   ]
  },
  {
   "cell_type": "code",
   "execution_count": 38,
   "id": "90faa5d8",
   "metadata": {},
   "outputs": [],
   "source": [
    "import re\n",
    "\n",
    "# Reading the data input file\n",
    "maze = Maze(101,103)\n",
    "maze_structure = []\n",
    "maze_strcuture_copy = []\n",
    "maze_section = []\n",
    "position_list = []\n",
    "number_2_by_2_clusters = 0\n",
    "\n",
    "# Creatin a maze with empty positions\n",
    "for main_index in range(maze.height):\n",
    "    for nested_index in range(maze.width):\n",
    "        maze_section.append('.')\n",
    "    maze_structure.append(maze_section.copy())\n",
    "    maze_section = []\n",
    "\n",
    "\n",
    "input_file = open(\"challenge_14_input.txt\", \"r\")\n",
    "\n",
    "# we go through the lines of the input file\n",
    "# extract the numbers and put it in a list of positions\n",
    "for line in input_file:\n",
    "    input_data = line.strip()\n",
    "    numbers = re.findall(r'-?\\d+', input_data)\n",
    "    \n",
    "    for i in range(len(numbers)):\n",
    "        numbers[i] = int(numbers[i])\n",
    "    \n",
    "    position_list.append(numbers)\n",
    "    \n",
    "\n",
    "# These are the iterations of seconds. Again we don't really iterate, we multiply and use modulo to wrape around the \n",
    "# edges of the maze\n",
    "for seconds in range(6000,8000):\n",
    "    # First we make a copy of the empty maze because it will be a new one at every iteration\n",
    "    for line in maze_structure:\n",
    "        maze_strcuture_copy.append(line.copy())\n",
    "        \n",
    "    # Here we calculate the positions and insert them in the maze. If the position is empty, it becomes 1. If it is not empty\n",
    "    # we add 1 to it.\n",
    "    for position in position_list:\n",
    "        final_position = [(position[0] + (position[2] * seconds)) % maze.width,(position[1] + (position[3] * seconds)) % maze.height]\n",
    "        \n",
    "        if maze_strcuture_copy[final_position[1]][final_position[0]] != '.':\n",
    "            maze_strcuture_copy[final_position[1]][final_position[0]] = str(int(maze_strcuture_copy[final_position[1]][final_position[0]]) + 1)\n",
    "        else:\n",
    "            maze_strcuture_copy[final_position[1]][final_position[0]] = '1'\n",
    "    \n",
    "    # Then we look at the 2x2 clusters, going through the maze one index at a time, such that a 3x3 cluster returns two 2x2\n",
    "    # clusters\n",
    "    for main_index in range(0, len(maze_strcuture_copy) - 1, 1):\n",
    "        for nested_index in range(0, len(maze_strcuture_copy[0]) - 1, 1):\n",
    "            if maze_strcuture_copy[main_index][nested_index] != '.' and maze_strcuture_copy[main_index + 1][nested_index] != '.' and maze_strcuture_copy[main_index][nested_index + 1] != '.' and maze_strcuture_copy[main_index + 1][nested_index + 1] != '.':\n",
    "                number_2_by_2_clusters += 1\n",
    "    \n",
    "    # The magic number 174 was found thorugh manual iterations\n",
    "    if number_2_by_2_clusters == 174:\n",
    "        f = open(\"challenge_14_output.txt\", \"a\")\n",
    "        f.write(f\"{seconds}\\n\")\n",
    "        for line in maze_strcuture_copy:\n",
    "            string = \"\".join(line) + \"\\n\"\n",
    "            f.write(string)\n",
    "        f.write(\"\\n\")\n",
    "        f.close()\n",
    "    \n",
    "    # Reset temporary data for next iteration\n",
    "    number_2_by_2_clusters = 0\n",
    "    maze_strcuture_copy = []"
   ]
  }
 ],
 "metadata": {
  "kernelspec": {
   "display_name": "Python 3 (ipykernel)",
   "language": "python",
   "name": "python3"
  },
  "language_info": {
   "codemirror_mode": {
    "name": "ipython",
    "version": 3
   },
   "file_extension": ".py",
   "mimetype": "text/x-python",
   "name": "python",
   "nbconvert_exporter": "python",
   "pygments_lexer": "ipython3",
   "version": "3.9.13"
  }
 },
 "nbformat": 4,
 "nbformat_minor": 5
}
