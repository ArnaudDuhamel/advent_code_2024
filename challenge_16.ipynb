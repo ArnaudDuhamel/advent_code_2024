{
 "cells": [
  {
   "cell_type": "markdown",
   "id": "020d38da",
   "metadata": {},
   "source": [
    "# Advent of code 2024\n",
    "## Challenge 16"
   ]
  },
  {
   "cell_type": "markdown",
   "id": "797d55aa",
   "metadata": {},
   "source": [
    "This challenge has been very difficult for me. I tried for a while on my own, first trying a recursive and later a queue based algorithm. The problem with my algorithms is that they were trying every possible path, and so it was never finishing. I later tried to improve it by keeping track of the path with the least total points, but it also was not enough. \n",
    "\n",
    "I was also unsure which path searching algorithm to use so I looked that up. I almost went for an A* algorithm. But some other users pointed towards a simpler djikstra, even bfs. I looked a bit into Djikstra but then later went for a BFS algorithm based on what I found from others online. \n",
    "\n",
    "I had read that the algorithm should prioritise every step in which it goes forward, where it does not turn. This did not work, even when I started keeping track of the shortest path in the right way. \n",
    "\n",
    "Implementing BFS in code was also something difficult for me, so I looked online. The first source that I found is this article: https://medium.com/@davidlfliang/intro-graph-theory-in-python-maze-pathfinder-bb65ba8f3833. Which I did implement. I was struggling and it was not going great in my implementation. So I looked for more resource. And I found this solution: https://github.com/fivard/AOC-2024/tree/master/day16 on this Reddit thread: https://www.reddit.com/r/adventofcode/comments/1hfboft/2024_day_16_solutions/.\n",
    "\n",
    "That last ressource is what I essentially used. I already had a bunch of code written before I found this resource, so I tried to modify my code to achieve the same result as in the resource. But I was still not managing and I could not know what I was doing wrong. \n",
    "\n",
    "So what I did is run the solution algorithm on my dataset, which gave me the right answer. I now knew which answer I had to get to. I still was not figuring it out. So in the end, I put the solution algorithm side by side with mine, and I went through both, making modifications to mine accordingly. Then I finally figured it out. \n",
    "\n",
    "In short, the solution algorithm is a completely normal BFS, but we keep track of the score of each formed path at every position on the map. If the position on the map has a lower score then the current path, it means a better path was there, and so we stop the current path. \n",
    "\n",
    "For part 2, I struggled in the same way. I went with the resource solution. And I tried on my own to implement a reverse pathfinding algorithm after getting the best path. I was not figuring out how to only keep track of the positions, or the paths, that would form a best path scenario. And basing it on the total score that I need to reach was too long. The algorithm based on that was not finishing. \n",
    "\n",
    "So I again looked at the solution algorithm. I also ran it on my data set and obtained the answer, now I knew what was the answer I needed to obtain. But then looking at the solution algorithm, the idea is to again use the socre by position. When walking backwards, we keep a patch going and adding its position to the total only if when they step on a position, their score is the same or lower then the saved score for that position, which is the best possible after running part 1. This also allows to walk on positions that overwrote the score of a best path scenario, but was then dropped later on. Such as this:\n",
    "\n",
    "                                        5005  5006  5007  4013  5009  5010\n",
    "                                                          4012\n",
    "                                                          4011"
   ]
  },
  {
   "cell_type": "markdown",
   "id": "bbe302dc",
   "metadata": {},
   "source": [
    "## Part 1\n",
    "### https://adventofcode.com/2024/day/16"
   ]
  },
  {
   "cell_type": "markdown",
   "id": "a0898cba",
   "metadata": {},
   "source": [
    "### Finding starting and ending position"
   ]
  },
  {
   "cell_type": "code",
   "execution_count": 1,
   "id": "3da8c40a",
   "metadata": {},
   "outputs": [],
   "source": [
    "maze = []\n",
    "\n",
    "input_file = open(\"challenge_16_input.txt\", \"r\")\n",
    "\n",
    "for line in input_file:\n",
    "    input_data = list(line.strip())\n",
    "    maze.append(input_data)"
   ]
  },
  {
   "cell_type": "code",
   "execution_count": 2,
   "id": "35235533",
   "metadata": {},
   "outputs": [],
   "source": [
    "for main_index,line in enumerate(maze):\n",
    "    for nested_index, value in enumerate(line):\n",
    "        if value == 'S':\n",
    "            start = (main_index,nested_index)\n",
    "        elif value == 'E':\n",
    "            end = (main_index,nested_index)"
   ]
  },
  {
   "cell_type": "code",
   "execution_count": 3,
   "id": "6e708cfc",
   "metadata": {},
   "outputs": [],
   "source": [
    "# This function provides the allowed moves and corresponding score based on\n",
    "# given direction\n",
    "def find_steps(direction):\n",
    "    if direction == (0,1):\n",
    "        return [(-1,0,1001),(1,0,1001),(0,1,1)]\n",
    "    elif direction == (0,-1):\n",
    "        return [(-1,0,1001),(1,0,1001),(0,-1,1)]\n",
    "    elif direction == (1,0):\n",
    "        return [(0,-1,1001),(0,1,1001),(1,0,1)]\n",
    "    elif direction == (-1,0):\n",
    "        return [(0,-1,1001),(0,1,1001),(-1,0,1)]"
   ]
  },
  {
   "cell_type": "markdown",
   "id": "997f92fd",
   "metadata": {},
   "source": [
    "### BFS pathfinding"
   ]
  },
  {
   "cell_type": "code",
   "execution_count": 4,
   "id": "aad46ec8",
   "metadata": {
    "scrolled": false
   },
   "outputs": [],
   "source": [
    "from collections import deque\n",
    "\n",
    "def bfs_pathfinding(maze, start, direction, end):\n",
    "    \n",
    "    rows = len(maze)\n",
    "    cols = len(maze[0])\n",
    "    # we create a main queue of steps to take and initiate with the starting position\n",
    "    queue = deque([[(start[0],start[1]),(direction[0],direction[1]), 0]])\n",
    "    # Keeps track of the best score at any one position of the maze\n",
    "    score_by_position = {(start[0],start[1]): 0}\n",
    "        \n",
    "    # We start going through the maze\n",
    "    while queue:\n",
    "        \n",
    "        # We extract the relevant information for the position at which we are now\n",
    "        current_position_direction_score = queue.popleft()\n",
    "        current_position = current_position_direction_score[0]\n",
    "        current_direction = current_position_direction_score[1]\n",
    "        current_score = current_position_direction_score[2]\n",
    "         \n",
    "        r, c = current_position\n",
    "        cdr, cdc = current_direction\n",
    "        \n",
    "        # We extract our allowed steps \n",
    "        steps = find_steps(current_direction)\n",
    "        \n",
    "        # We check if we can take the step. Especially if the step would provide a better score then a previous path\n",
    "        # that has already been on that position\n",
    "        if 0 <= r < rows and 0 <= c < cols and maze[r][c] != '#':\n",
    "            for dr, dc, score in steps:\n",
    "                nr, nc = r + dr, c + dc\n",
    "                if 0 <= nr < rows and 0 <= nc < cols and maze[nr][nc] != '#' and ((nr, nc) not in score_by_position or score_by_position[(nr, nc)] > current_score + score):\n",
    "                    queue.append([(nr, nc),(dr,dc), current_score + score])\n",
    "                    score_by_position[(nr, nc)] =  current_score + score\n",
    "                \n",
    "    return score_by_position[(end[0],end[1])]"
   ]
  },
  {
   "cell_type": "code",
   "execution_count": null,
   "id": "fe6ef66f",
   "metadata": {},
   "outputs": [],
   "source": [
    "total_score = bfs_pathfinding(maze, start, (0,1), end)\n",
    "\n",
    "print(f\"Best score: {total_score}\")"
   ]
  },
  {
   "cell_type": "markdown",
   "id": "aaff8bb2",
   "metadata": {},
   "source": [
    "## Part 2"
   ]
  },
  {
   "cell_type": "code",
   "execution_count": 6,
   "id": "47a76b2f",
   "metadata": {},
   "outputs": [],
   "source": [
    "def bfs_pathfinding_second(maze, start, direction, end):\n",
    "    # The first walk on this function is exactly the same as part 1\n",
    "    rows = len(maze)\n",
    "    cols = len(maze[0])\n",
    "    queue = deque([[(start[0],start[1]),(direction[0],direction[1]), 0]])   \n",
    "    score_by_position = {(start[0],start[1]): 0}\n",
    "    \n",
    "    while queue:\n",
    "                \n",
    "        current_position_direction_score = queue.popleft()\n",
    "        current_position = current_position_direction_score[0]\n",
    "        current_direction = current_position_direction_score[1]\n",
    "        current_score = current_position_direction_score[2]\n",
    "         \n",
    "        r, c = current_position\n",
    "        cdr, cdc = current_direction\n",
    "        steps = find_steps(current_direction)\n",
    "        \n",
    "        if 0 <= r < rows and 0 <= c < cols and maze[r][c] != '#':\n",
    "            for dr, dc, score in steps:\n",
    "                nr, nc = r + dr, c + dc\n",
    "                if 0 <= nr < rows and 0 <= nc < cols and maze[nr][nc] != '#' and ((nr, nc) not in score_by_position or score_by_position[(nr, nc)] > current_score + score):\n",
    "                    queue.append([(nr, nc),(dr,dc), current_score + score])\n",
    "                    score_by_position[(nr, nc)] =  current_score + score\n",
    "                     \n",
    "    # On this run, we go from the end to the start, and we take every step that would respect the parameters of a best path\n",
    "    queue = deque([[(end[0],end[1]),(1,0), score_by_position[end]],[(end[0],end[1]),(0,-1), score_by_position[end]]])   \n",
    "    explored_positions = set([end])\n",
    "    \n",
    "    while queue:\n",
    "                \n",
    "        current_position_direction_score = queue.popleft()\n",
    "        current_position = current_position_direction_score[0]\n",
    "        current_direction = current_position_direction_score[1]\n",
    "        current_score = current_position_direction_score[2]\n",
    "         \n",
    "        r, c = current_position\n",
    "        cdr, cdc = current_direction\n",
    "        steps = find_steps(current_direction)\n",
    "        \n",
    "        for dr, dc, score in steps:\n",
    "            nr, nc = r + dr, c + dc\n",
    "            # It is the check score_by_position[(nr,nc)] <= current_score that allows the step if the score of the position corresponds\n",
    "            # to the best score for the position, or less, allowing to step on position that have a lower score, but are nonetheless on \n",
    "            # a path with a global score that is worse then the best path\n",
    "            \n",
    "            # We also do not step on positions on which we already stepped\n",
    "            if (nr,nc) in score_by_position and score_by_position[(nr,nc)] <= current_score - score and (nr,nc) not in explored_positions:\n",
    "                queue.append([(nr, nc),(dr,dc), current_score - score])\n",
    "                new_position = (nr,nc)\n",
    "                explored_positions.add(new_position)\n",
    "    \n",
    "    return len(explored_positions)"
   ]
  },
  {
   "cell_type": "code",
   "execution_count": null,
   "id": "2e3e7d78",
   "metadata": {},
   "outputs": [],
   "source": [
    "nb_possible_positions = bfs_pathfinding_second(maze, start, (0,1), end)\n",
    "\n",
    "print(f\"Number of possible positions: {nb_possible_positions}\")"
   ]
  }
 ],
 "metadata": {
  "kernelspec": {
   "display_name": "Python 3 (ipykernel)",
   "language": "python",
   "name": "python3"
  },
  "language_info": {
   "codemirror_mode": {
    "name": "ipython",
    "version": 3
   },
   "file_extension": ".py",
   "mimetype": "text/x-python",
   "name": "python",
   "nbconvert_exporter": "python",
   "pygments_lexer": "ipython3",
   "version": "3.9.13"
  }
 },
 "nbformat": 4,
 "nbformat_minor": 5
}
