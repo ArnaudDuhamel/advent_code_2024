{
 "cells": [
  {
   "cell_type": "markdown",
   "id": "04f70a6c",
   "metadata": {},
   "source": [
    "# Advent of code 2024\n",
    "## Challenge 11"
   ]
  },
  {
   "cell_type": "markdown",
   "id": "e01fb23b",
   "metadata": {},
   "source": [
    "## Part 1\n",
    "### https://adventofcode.com/2024/day/11"
   ]
  },
  {
   "cell_type": "markdown",
   "id": "7e7f9567",
   "metadata": {},
   "source": [
    "For the first part of this challenge, I used a list, and essentially iterated through the whole list for every blink. It went fine for the first part of the challenge. I managed to get to 25 iterations easily. But the method was not working at all for part 2 of the challenge."
   ]
  },
  {
   "cell_type": "code",
   "execution_count": null,
   "id": "bf58494f",
   "metadata": {},
   "outputs": [],
   "source": [
    "import re\n",
    "\n",
    "input_file = open(\"challenge_11_input.txt\", \"r\")\n",
    "input_data = []\n",
    "updated_input_data = []\n",
    "\n",
    "# A list of strings is made\n",
    "for line in input_file:\n",
    "    input_data = line.strip()\n",
    "    input_data = input_data.split()\n",
    "    \n",
    "# We iterate 25 times through the list\n",
    "for i in range(25):\n",
    "    # At first, I was iterating through the list with a while loop and modifying the list as I was iterating through it\n",
    "    # but it did not work, because it would then iterate through the new values that were added to the list. And this \n",
    "    # was not supposed to happen.\n",
    "    # So I worked with two lists in the end. The results of an operation on the current list is appended to the list \n",
    "    # that will be used in the next iteration\n",
    "    for string in input_data:\n",
    "        # These are the speficiations\n",
    "        if string == '0':\n",
    "            updated_input_data.append('1')\n",
    "        elif len(string) % 2 == 0:\n",
    "            # Here the string is split in two\n",
    "            first_half = string[:int(len(string)/2)]\n",
    "            second_half = string[int(len(string)/2):]\n",
    "            # If the right string is multiple zeros, the new value is one 0\n",
    "            if re.search(r\"^0{2,}$\", second_half):\n",
    "                second_half = '0'\n",
    "            # If there are one or more 0s to the left of another number, only the numbers to the right are\n",
    "            # kept, this the capture.\n",
    "            elif re.search(r\"^0+\\d+$\", second_half):\n",
    "                second_half = re.match(r\"^0+(\\d+)$\", second_half).group(1)\n",
    "            # We then insert the new values in the next list.\n",
    "            updated_input_data.append(first_half)\n",
    "            updated_input_data.append(second_half)\n",
    "        else:\n",
    "            updated_input_data.append(str(int(string) * 2024))\n",
    "    # The next list becomes the current list and the next list is reset\n",
    "    input_data = updated_input_data.copy()\n",
    "    updated_input_data = []\n",
    "    \n",
    "print(len(input_data))"
   ]
  },
  {
   "cell_type": "markdown",
   "id": "14e4543d",
   "metadata": {},
   "source": [
    "## Part 2"
   ]
  },
  {
   "cell_type": "markdown",
   "id": "85ecb099",
   "metadata": {},
   "source": [
    "For this part of the challenge, at first, I kept the same algorithm as for part one and tried to run the same algorithm on different part of the list. One run for one part, and another for another part. I thought this splitting up would gain efficiency but it really didn't.\n",
    "\n",
    "Then I tried to see if there was a way to tweak the algorithm so that it gave the same result but more effectively. I read the specifications multiple times and I really had no way of making changes without affecting the end result.\n",
    "\n",
    "I felt stuck, but then by accident when I was looking at the split list, I saw that numbers had a lot repetitions. Many numbers were coming up over and over again. That's when I got the idea for the algorithm under. \n",
    "\n",
    "Instead of working with a list with every single occurences. I worked with a map where the key was the number and the value was the number of occurences. The total number of all occurences would then be the length of what would be the final list. And it works very well and scales very well up to 75 iterations. Even 100.\n",
    "\n",
    "I did not use any resources to come up with the algorithm. But I did use ChatGPT to provide the right regexes."
   ]
  },
  {
   "cell_type": "code",
   "execution_count": null,
   "id": "920790e3",
   "metadata": {},
   "outputs": [],
   "source": [
    "import re\n",
    "\n",
    "input_file = open(\"challenge_11_input.txt\", \"r\")\n",
    "input_data = []\n",
    "updated_input_data = []\n",
    "input_dictionnary = {}\n",
    "updated_input_dictionnary = {}\n",
    "\n",
    "for line in input_file:\n",
    "    input_data = line.strip()\n",
    "    input_data = input_data.split()\n",
    "\n",
    "# Here, we convert this list into the map where the keys are the numbers and the value is there occurences\n",
    "# For a dictionnary, the code is a bit heavier because we have to see if the key is in the dictionnary or not\n",
    "# and if it is not there, create it or ir if it there, add to it.\n",
    "for string in input_data:\n",
    "    if string not in input_dictionnary:\n",
    "        input_dictionnary[string] = 1\n",
    "    else:\n",
    "        input_dictionnary[string] += 1\n",
    "\n",
    "# Here, we also work with two maps to avoid iterating over newly created keys.\n",
    "for i in range(75):\n",
    "    # the logic here is that, let's say there is a key which is 0, and a value of 250. This means that there is a list\n",
    "    # of 250 0s. The rule for 0s is that they are transformed into 1s. So here, 250 0s become 250 1s.\n",
    "    # The new values resulting from the transformations become keys in the map.\n",
    "    for key in input_dictionnary:\n",
    "        if key == '0':\n",
    "            if '1' not in updated_input_dictionnary:\n",
    "                updated_input_dictionnary['1'] = input_dictionnary['0']\n",
    "            else:\n",
    "                updated_input_dictionnary['1'] += input_dictionnary['0']\n",
    "        elif len(key) % 2 == 0:\n",
    "            first_half = key[:int(len(key)/2)]\n",
    "            second_half = key[int(len(key)/2):]\n",
    "            if re.search(r\"^0{2,}$\", second_half):\n",
    "                second_half = '0'\n",
    "            elif re.search(r\"^0+\\d+$\", second_half):\n",
    "                second_half = re.match(r\"^0+(\\d+)$\", second_half).group(1)\n",
    "            \n",
    "            if first_half not in updated_input_dictionnary:\n",
    "                updated_input_dictionnary[first_half] = input_dictionnary[key]\n",
    "            else:\n",
    "                updated_input_dictionnary[first_half] += input_dictionnary[key]\n",
    "                \n",
    "            if second_half not in updated_input_dictionnary:\n",
    "                updated_input_dictionnary[second_half] = input_dictionnary[key]\n",
    "            else:\n",
    "                updated_input_dictionnary[second_half] += input_dictionnary[key]\n",
    "        else:\n",
    "            new_key = str(int(key) * 2024)\n",
    "            if new_key not in updated_input_dictionnary:\n",
    "                updated_input_dictionnary[new_key] = input_dictionnary[key]\n",
    "            else:\n",
    "                updated_input_dictionnary[new_key] += input_dictionnary[key]\n",
    "            \n",
    "    input_dictionnary = updated_input_dictionnary.copy()\n",
    "    updated_input_dictionnary = {}\n",
    "\n",
    "# We find the total length by adding together the value of each key\n",
    "total_length = 0\n",
    "for key in input_dictionnary:\n",
    "    total_length += input_dictionnary[key]\n",
    "    \n",
    "print(f\"Total amount of values: {total_length}\")\n",
    "print(f\"Total amount of unique values: {len(input_dictionnary)}\")"
   ]
  }
 ],
 "metadata": {
  "kernelspec": {
   "display_name": "Python 3 (ipykernel)",
   "language": "python",
   "name": "python3"
  },
  "language_info": {
   "codemirror_mode": {
    "name": "ipython",
    "version": 3
   },
   "file_extension": ".py",
   "mimetype": "text/x-python",
   "name": "python",
   "nbconvert_exporter": "python",
   "pygments_lexer": "ipython3",
   "version": "3.9.13"
  }
 },
 "nbformat": 4,
 "nbformat_minor": 5
}
