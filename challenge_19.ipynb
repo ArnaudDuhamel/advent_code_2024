{
 "cells": [
  {
   "cell_type": "markdown",
   "id": "11ffc4e6",
   "metadata": {},
   "source": [
    "# Advent of code 2024\n",
    "## Challenge 19\n",
    "## Part 1\n",
    "### https://adventofcode.com/2024/day/19#part1"
   ]
  },
  {
   "cell_type": "markdown",
   "id": "b704dbab",
   "metadata": {},
   "source": [
    "For this part of the challenge, I thought it woulb be strightforward: a recursion with backtracking. I even did not understand because it felt \"too easy to be true\". And it was. A pure recursion algorithm did not work. It was endless.\n",
    "\n",
    "But then I went online and looked for hints on Reddit. Some hints mentioned something like \"if you know that uubrwbw is a working condition, do you need to look at it again?\" And for me, this meant the removal of backtracking in the algorithm and this did not make sense to me. Because if a combination does not work, you have to be able to try another one.\n",
    "\n",
    "And so I was stuck. And so I went on Youtube to look at some code. That's when I found this video: https://www.youtube.com/watch?v=enX0gRgfuoo. I also looked at a couple of other videos without understanding the code too much because it was in other languages. So I rewrote exactly the code shown in the video, except with the \"cache\" part. I thought it was optimization that was nice to have, but not necessary. But then I got stuck in exactly the same way. So then I tried with the \"cache\" method and then it worked. And this is when I understood that what I was missing was this \"cache\" feature. The copied code is the \"is_possible_design_demo\" function.\n",
    "\n",
    "There are many different ways to create combinations. As the recursion goes through the string, it tries all possibilities. Then if it reaches a dead end, it will backtrack. But, after backtracking, it goes back to trying all possible combinations. This means that the recursion repeats a huge amount of combination that have already been exhausted. And this is why it stalls. It has too many possible combinations that it keeps repeating all the time.\n",
    "\n",
    "That's when caching comes in. It will start at the end of the string we look for. and when all possible combinations are exhausted, it will save the result, so that when it goes back to this part of the string after backtracking, we will already know the result."
   ]
  },
  {
   "cell_type": "code",
   "execution_count": 5,
   "id": "019539f6",
   "metadata": {},
   "outputs": [],
   "source": [
    "towels = ['uug', 'wwg', 'uuu', 'grburwrb', 'uubrw', 'bw', 'wwbb', 'bugg', 'wb', 'uwub', 'ubb', 'ubruug', 'bgr', 'gbw', 'ruw', 'brw', 'ubu', 'bwgb', 'bwbbgg', 'rbu', 'rbww', 'uwwgubg', 'urggw', 'urgg', 'brubwurr', 'wrrbw', 'wggbbr', 'rbbrwg', 'uubb', 'rbuguu', 'rwugwr', 'ubugw', 'buwuuuu', 'uuru', 'wbbrb', 'gbg', 'ug', 'wwr', 'grbwgw', 'ugu', 'brwwu', 'www', 'bgwguuub', 'gur', 'ugbgubrg', 'ururgu', 'ruru', 'uuug', 'urw', 'uwg', 'buwuguwr', 'ugrw', 'rugrrr', 'wwgr', 'gbbug', 'wrbb', 'gwrgw', 'bgw', 'wbuur', 'wurbrr', 'rg', 'bbubgur', 'bwb', 'uwwggg', 'rugwwg', 'rggwu', 'wugwbggg', 'rwrw', 'rrgrw', 'urwg', 'rgw', 'urg', 'gbuu', 'gb', 'uwbwbr', 'ruu', 'bugrwbu', 'bwuu', 'wug', 'uwrugrw', 'uuww', 'br', 'ubwub', 'grbwu', 'brruur', 'wuubr', 'bbr', 'wrrubu', 'rwuugbg', 'grbwbg', 'guu', 'brg', 'wgwub', 'gwr', 'wgu', 'ggbrbb', 'bwub', 'wgg', 'wbu', 'wwb', 'bwrgu', 'uwgr', 'grgw', 'uurgbg', 'wrwbbg', 'ubub', 'bb', 'ruuw', 'uwrbugu', 'gwrb', 'bwr', 'rguwuw', 'rrbr', 'rubbgr', 'wrggu', 'gbwrbb', 'uugguug', 'gbbb', 'rwugg', 'wwbubr', 'rrurgbb', 'bwrwugr', 'ugg', 'brbuubb', 'bwbwrug', 'uwr', 'wuggwu', 'wuwww', 'bwbgrwbw', 'bubur', 'ugrb', 'grub', 'grgggb', 'uwru', 'wgr', 'gwwrg', 'wubu', 'bgu', 'bgrg', 'wuw', 'guwu', 'rbuwb', 'uuwgr', 'bggrurg', 'wrurbb', 'rgrgrbg', 'wbwr', 'uuwwub', 'ggwr', 'bbwg', 'rbg', 'wur', 'urgbg', 'wbr', 'uwwwrug', 'rurw', 'wwbgwub', 'urugwbw', 'g', 'uubg', 'ur', 'bwur', 'uurwruub', 'uw', 'uguuur', 'rub', 'wgb', 'wrrwuu', 'uwug', 'rww', 'wrrwuw', 'wbw', 'brr', 'bwrugg', 'ubgbbrr', 'gwg', 'uggbwb', 'uugbb', 'uguwubuw', 'wguwug', 'bwg', 'ggb', 'wgbur', 'urr', 'bbuwg', 'burur', 'grrb', 'gubru', 'ubrrugr', 'ubg', 'rbwgu', 'uwgbw', 'wgubw', 'gwgrrw', 'rrr', 'wbwu', 'ru', 'guwgg', 'rgr', 'brurg', 'rr', 'gw', 'wurbwgw', 'rrw', 'ubbr', 'wgub', 'wrrwu', 'gwguwrbw', 'uurb', 'rrg', 'bbgwu', 'uwwb', 'uggugw', 'rubbrgur', 'gwu', 'wrgwwg', 'gubbg', 'wggw', 'uuwr', 'ggru', 'wuu', 'bbu', 'bruwu', 'rgbrrwwr', 'wuurgbgg', 'ubugwgg', 'ubgr', 'rguwu', 'ruug', 'bwruubg', 'grgwrw', 'bgrw', 'uwrwg', 'gbbg', 'guuuu', 'bgwr', 'wwwuw', 'rgrw', 'rwr', 'wrurgr', 'rw', 'wwu', 'wbbwwrb', 'rgbwr', 'bgbwg', 'wr', 'wgugr', 'grw', 'gru', 'wurubug', 'wgbu', 'uuuwuug', 'rbgw', 'wuwur', 'bbb', 'ugwr', 'ubuwub', 'rbwb', 'grwgrbg', 'bg', 'bwww', 'guub', 'ugw', 'uub', 'ugbw', 'rwub', 'bggwuuu', 'bgwwg', 'uru', 'uggbrw', 'bggwg', 'gubgwubu', 'bguggu', 'uwuuub', 'wwwb', 'ugb', 'rbb', 'uwwg', 'bbw', 'bbruwr', 'rur', 'buw', 'wbbr', 'ubrgugrb', 'grurg', 'ggugr', 'gugwr', 'ubuwu', 'rggrg', 'wbrb', 'bwrr', 'wbg', 'ww', 'gwub', 'grgubu', 'brubu', 'gbwg', 'brb', 'rurug', 'buwu', 'gbbbwb', 'bbgbw', 'rug', 'uwrb', 'gggw', 'ubrgbu', 'bru', 'gww', 'bur', 'gbggrrwr', 'uuwuu', 'bgbgw', 'wgbr', 'grr', 'gwgwrbr', 'gbb', 'gbr', 'bbbugr', 'uuw', 'wrg', 'gub', 'gg', 'rubgggg', 'rugg', 'urur', 'rwbu', 'bwu', 'bwbuw', 'rgbgb', 'bwgr', 'rgwuw', 'wbruw', 'ubr', 'wrb', 'rbrbb', 'bu', 'uwu', 'gbwwrr', 'buuguru', 'uggrw', 'wbuurur', 'wgrw', 'wrw', 'wgbggrru', 'uubburwb', 'bgbr', 'rbr', 'gug', 'wrr', 'uuubwgr', 'buu', 'uu', 'wububwg', 'ugwruu', 'rru', 'wgrrbgg', 'gguw', 'ruub', 'rgu', 'ggw', 'rrwu', 'rwggr', 'rwwbwu', 'w', 'uuguw', 'wwgbu', 'brggw', 'rbwgru', 'guw', 'wub', 'gwuggur', 'grrw', 'wg', 'ubbguu', 'wgggb', 'uwb', 'uwwu', 'wrub', 'uwwgw', 'rubwbrr', 'wgbrg', 'bgb', 'bbwb', 'brgb', 'rwu', 'uur', 'bbruurrw', 'u', 'gbu', 'urb', 'wuwbggg', 'rwwrbr', 'gwb', 'grgrburw', 'bwrg', 'wbb', 'wuurw', 'bugbuug', 'uggrb', 'gubbgbb', 'bww', 'bbbw', 'gbwwr', 'wruw', 'rb', 'gguww', 'ugww', 'wgw', 'rgrwwg', 'gwbwr', 'brrw', 'bbrubu', 'rgb', 'rbwu', 'rrb', 'gwugug', 'rbgb', 'bgwg', 'gu', 'wwugguw', 'rgg', 'wbugrr', 'ubw', 'rbrru', 'grb', 'wrurrw', 'ggg', 'wbwg', 'rruu', 'ugr', 'bgg', 'ub', 'ggu', 'bbbr', 'rbw', 'bug', 'gggwbu', 'bbuu', 'urrb', 'gruww', 'b', 'uww', 'brbuw', 'urbubg', 'gugwg', 'bub', 'grg']\n",
    "cache = {}\n",
    "def is_possible_design_demo(design):\n",
    "    # if design in cache:\n",
    "        # print(f\"Cache hit: {design} with score: {cache[design]}\")\n",
    "    if design not in cache:\n",
    "        if design == \"\":\n",
    "            return 1\n",
    "        else:\n",
    "            result = 0\n",
    "            for towel in towels:\n",
    "                if design.startswith(towel):\n",
    "                    result += is_possible_design_demo(design[len(towel):])\n",
    "            cache[design] = result\n",
    "            # print(f\"Design entering the cache: {design} with score: {result}\")\n",
    "    return cache[design]"
   ]
  },
  {
   "cell_type": "code",
   "execution_count": 28,
   "id": "a4845b8f",
   "metadata": {},
   "outputs": [],
   "source": [
    "towels = ['uug', 'wwg', 'uuu', 'grburwrb', 'uubrw', 'bw', 'wwbb', 'bugg', 'wb', 'uwub', 'ubb', 'ubruug', 'bgr', 'gbw', 'ruw', 'brw', 'ubu', 'bwgb', 'bwbbgg', 'rbu', 'rbww', 'uwwgubg', 'urggw', 'urgg', 'brubwurr', 'wrrbw', 'wggbbr', 'rbbrwg', 'uubb', 'rbuguu', 'rwugwr', 'ubugw', 'buwuuuu', 'uuru', 'wbbrb', 'gbg', 'ug', 'wwr', 'grbwgw', 'ugu', 'brwwu', 'www', 'bgwguuub', 'gur', 'ugbgubrg', 'ururgu', 'ruru', 'uuug', 'urw', 'uwg', 'buwuguwr', 'ugrw', 'rugrrr', 'wwgr', 'gbbug', 'wrbb', 'gwrgw', 'bgw', 'wbuur', 'wurbrr', 'rg', 'bbubgur', 'bwb', 'uwwggg', 'rugwwg', 'rggwu', 'wugwbggg', 'rwrw', 'rrgrw', 'urwg', 'rgw', 'urg', 'gbuu', 'gb', 'uwbwbr', 'ruu', 'bugrwbu', 'bwuu', 'wug', 'uwrugrw', 'uuww', 'br', 'ubwub', 'grbwu', 'brruur', 'wuubr', 'bbr', 'wrrubu', 'rwuugbg', 'grbwbg', 'guu', 'brg', 'wgwub', 'gwr', 'wgu', 'ggbrbb', 'bwub', 'wgg', 'wbu', 'wwb', 'bwrgu', 'uwgr', 'grgw', 'uurgbg', 'wrwbbg', 'ubub', 'bb', 'ruuw', 'uwrbugu', 'gwrb', 'bwr', 'rguwuw', 'rrbr', 'rubbgr', 'wrggu', 'gbwrbb', 'uugguug', 'gbbb', 'rwugg', 'wwbubr', 'rrurgbb', 'bwrwugr', 'ugg', 'brbuubb', 'bwbwrug', 'uwr', 'wuggwu', 'wuwww', 'bwbgrwbw', 'bubur', 'ugrb', 'grub', 'grgggb', 'uwru', 'wgr', 'gwwrg', 'wubu', 'bgu', 'bgrg', 'wuw', 'guwu', 'rbuwb', 'uuwgr', 'bggrurg', 'wrurbb', 'rgrgrbg', 'wbwr', 'uuwwub', 'ggwr', 'bbwg', 'rbg', 'wur', 'urgbg', 'wbr', 'uwwwrug', 'rurw', 'wwbgwub', 'urugwbw', 'g', 'uubg', 'ur', 'bwur', 'uurwruub', 'uw', 'uguuur', 'rub', 'wgb', 'wrrwuu', 'uwug', 'rww', 'wrrwuw', 'wbw', 'brr', 'bwrugg', 'ubgbbrr', 'gwg', 'uggbwb', 'uugbb', 'uguwubuw', 'wguwug', 'bwg', 'ggb', 'wgbur', 'urr', 'bbuwg', 'burur', 'grrb', 'gubru', 'ubrrugr', 'ubg', 'rbwgu', 'uwgbw', 'wgubw', 'gwgrrw', 'rrr', 'wbwu', 'ru', 'guwgg', 'rgr', 'brurg', 'rr', 'gw', 'wurbwgw', 'rrw', 'ubbr', 'wgub', 'wrrwu', 'gwguwrbw', 'uurb', 'rrg', 'bbgwu', 'uwwb', 'uggugw', 'rubbrgur', 'gwu', 'wrgwwg', 'gubbg', 'wggw', 'uuwr', 'ggru', 'wuu', 'bbu', 'bruwu', 'rgbrrwwr', 'wuurgbgg', 'ubugwgg', 'ubgr', 'rguwu', 'ruug', 'bwruubg', 'grgwrw', 'bgrw', 'uwrwg', 'gbbg', 'guuuu', 'bgwr', 'wwwuw', 'rgrw', 'rwr', 'wrurgr', 'rw', 'wwu', 'wbbwwrb', 'rgbwr', 'bgbwg', 'wr', 'wgugr', 'grw', 'gru', 'wurubug', 'wgbu', 'uuuwuug', 'rbgw', 'wuwur', 'bbb', 'ugwr', 'ubuwub', 'rbwb', 'grwgrbg', 'bg', 'bwww', 'guub', 'ugw', 'uub', 'ugbw', 'rwub', 'bggwuuu', 'bgwwg', 'uru', 'uggbrw', 'bggwg', 'gubgwubu', 'bguggu', 'uwuuub', 'wwwb', 'ugb', 'rbb', 'uwwg', 'bbw', 'bbruwr', 'rur', 'buw', 'wbbr', 'ubrgugrb', 'grurg', 'ggugr', 'gugwr', 'ubuwu', 'rggrg', 'wbrb', 'bwrr', 'wbg', 'ww', 'gwub', 'grgubu', 'brubu', 'gbwg', 'brb', 'rurug', 'buwu', 'gbbbwb', 'bbgbw', 'rug', 'uwrb', 'gggw', 'ubrgbu', 'bru', 'gww', 'bur', 'gbggrrwr', 'uuwuu', 'bgbgw', 'wgbr', 'grr', 'gwgwrbr', 'gbb', 'gbr', 'bbbugr', 'uuw', 'wrg', 'gub', 'gg', 'rubgggg', 'rugg', 'urur', 'rwbu', 'bwu', 'bwbuw', 'rgbgb', 'bwgr', 'rgwuw', 'wbruw', 'ubr', 'wrb', 'rbrbb', 'bu', 'uwu', 'gbwwrr', 'buuguru', 'uggrw', 'wbuurur', 'wgrw', 'wrw', 'wgbggrru', 'uubburwb', 'bgbr', 'rbr', 'gug', 'wrr', 'uuubwgr', 'buu', 'uu', 'wububwg', 'ugwruu', 'rru', 'wgrrbgg', 'gguw', 'ruub', 'rgu', 'ggw', 'rrwu', 'rwggr', 'rwwbwu', 'w', 'uuguw', 'wwgbu', 'brggw', 'rbwgru', 'guw', 'wub', 'gwuggur', 'grrw', 'wg', 'ubbguu', 'wgggb', 'uwb', 'uwwu', 'wrub', 'uwwgw', 'rubwbrr', 'wgbrg', 'bgb', 'bbwb', 'brgb', 'rwu', 'uur', 'bbruurrw', 'u', 'gbu', 'urb', 'wuwbggg', 'rwwrbr', 'gwb', 'grgrburw', 'bwrg', 'wbb', 'wuurw', 'bugbuug', 'uggrb', 'gubbgbb', 'bww', 'bbbw', 'gbwwr', 'wruw', 'rb', 'gguww', 'ugww', 'wgw', 'rgrwwg', 'gwbwr', 'brrw', 'bbrubu', 'rgb', 'rbwu', 'rrb', 'gwugug', 'rbgb', 'bgwg', 'gu', 'wwugguw', 'rgg', 'wbugrr', 'ubw', 'rbrru', 'grb', 'wrurrw', 'ggg', 'wbwg', 'rruu', 'ugr', 'bgg', 'ub', 'ggu', 'bbbr', 'rbw', 'bug', 'gggwbu', 'bbuu', 'urrb', 'gruww', 'b', 'uww', 'brbuw', 'urbubg', 'gugwg', 'bub', 'grg']\n",
    "cache = {}\n",
    "def is_possible_design(design):\n",
    "    if design not in cache:\n",
    "        if design == \"\":\n",
    "            return True\n",
    "        cache[design] = False\n",
    "        for towel in towels:\n",
    "            if towel == design[:len(towel)]:\n",
    "\n",
    "                sub_result = is_possible_design(design[len(towel):])\n",
    "\n",
    "                if sub_result == True:\n",
    "                    cache[design] = True\n",
    "                    break\n",
    "\n",
    "    return cache[design]"
   ]
  },
  {
   "cell_type": "code",
   "execution_count": 26,
   "id": "6cb9a614",
   "metadata": {},
   "outputs": [
    {
     "name": "stdout",
     "output_type": "stream",
     "text": [
      "338\n"
     ]
    }
   ],
   "source": [
    "input_file = open(\"challenge_19_input.txt\", \"r\")\n",
    "\n",
    "for _ in range(2):\n",
    "    next(input_file)\n",
    "    \n",
    "counter = 0\n",
    "\n",
    "for line in input_file:\n",
    "    desired_design = line.strip()\n",
    "    if is_possible_design(desired_design) == True:\n",
    "        counter += 1\n",
    "        \n",
    "print(counter)"
   ]
  },
  {
   "cell_type": "markdown",
   "id": "87599c42",
   "metadata": {},
   "source": [
    "## Part 2"
   ]
  },
  {
   "cell_type": "markdown",
   "id": "574df00e",
   "metadata": {},
   "source": [
    "For this part, I realized that the demo code was the solution. It kind of spoiled it, but I compensated by creating a function specifically designed for part 1."
   ]
  },
  {
   "cell_type": "code",
   "execution_count": 6,
   "id": "448a1c98",
   "metadata": {},
   "outputs": [
    {
     "name": "stdout",
     "output_type": "stream",
     "text": [
      "841533074412361\n"
     ]
    }
   ],
   "source": [
    "input_file = open(\"challenge_19_input.txt\", \"r\")\n",
    "\n",
    "for _ in range(2):\n",
    "    next(input_file)\n",
    "    \n",
    "total = 0\n",
    "\n",
    "for line in input_file:\n",
    "    desired_design = line.strip()\n",
    "    total += is_possible_design_demo(desired_design)\n",
    "                \n",
    "print(total)"
   ]
  }
 ],
 "metadata": {
  "kernelspec": {
   "display_name": "Python 3 (ipykernel)",
   "language": "python",
   "name": "python3"
  },
  "language_info": {
   "codemirror_mode": {
    "name": "ipython",
    "version": 3
   },
   "file_extension": ".py",
   "mimetype": "text/x-python",
   "name": "python",
   "nbconvert_exporter": "python",
   "pygments_lexer": "ipython3",
   "version": "3.9.13"
  }
 },
 "nbformat": 4,
 "nbformat_minor": 5
}
