{
 "cells": [
  {
   "cell_type": "markdown",
   "id": "d080e4e5",
   "metadata": {},
   "source": [
    "# Advent of code 2024\n",
    "## Challenge 18\n",
    "## Part 1\n",
    "### https://adventofcode.com/2024/day/18#part1"
   ]
  },
  {
   "cell_type": "markdown",
   "id": "83bfb6e9",
   "metadata": {},
   "source": [
    "This challenge has actually been pretty easy because it was a simplified version of challenge 16. I started the challenge\n",
    "with the pathfinding algorithm from challenge 16 and I simplified it."
   ]
  },
  {
   "cell_type": "code",
   "execution_count": 1,
   "id": "3d625e25",
   "metadata": {},
   "outputs": [],
   "source": [
    "# Reading the data input file\n",
    "input_file = open(\"challenge_18_input.txt\", \"r\")\n",
    "\n",
    "maze_size = 71\n",
    "\n",
    "maze = []\n",
    "maze_row = [\".\"] * maze_size\n",
    "\n",
    "for i in range(maze_size):\n",
    "    maze.append(maze_row.copy())\n",
    "    \n",
    "counter = 1\n",
    "    \n",
    "for line in input_file:\n",
    "    numbers = line.strip()\n",
    "    numbers = numbers.split(\",\")\n",
    "    x = int(numbers[0])\n",
    "    y = int(numbers[1])\n",
    "    maze[y][x] = '#'\n",
    "    if counter == 1024:\n",
    "        break\n",
    "    counter += 1"
   ]
  },
  {
   "cell_type": "code",
   "execution_count": 2,
   "id": "d1888e65",
   "metadata": {},
   "outputs": [],
   "source": [
    "start_position = (0,0)\n",
    "end_position = (maze_size - 1,maze_size - 1)"
   ]
  },
  {
   "cell_type": "code",
   "execution_count": 4,
   "id": "c8224cbd",
   "metadata": {},
   "outputs": [],
   "source": [
    "from collections import deque\n",
    "\n",
    "def bfs_pathfinding(maze, start, end):\n",
    "    \n",
    "    rows = len(maze)\n",
    "    cols = len(maze[0])\n",
    "    \n",
    "    # Here, we don't need to keep track of what is a turn or a forward step, so at every position\n",
    "    # we just look for every possible step\n",
    "    steps = [(0,-1),(0,1),(1,0),(-1,0)]\n",
    "    \n",
    "    # The queue still carries the score at the current position, which here is only the amount\n",
    "    # of previous steps\n",
    "    queue = deque([[(start[0],start[1]), 0]])\n",
    "    \n",
    "    # And we still keep track of the overall best score at each position\n",
    "    # Because the algorithm stil tries to find the shortest path\n",
    "    score_by_position = {(start[0],start[1]): 0}\n",
    "        \n",
    "    while queue:\n",
    "        \n",
    "        current_position_score = queue.popleft()\n",
    "        current_position = current_position_score[0]\n",
    "        current_score = current_position_score[1]\n",
    "         \n",
    "        r, c = current_position\n",
    "        \n",
    "        # We check if we can take the step. Especially if the step would provide a better score then a previous path\n",
    "        # that has already been on that position\n",
    "        if 0 <= r < rows and 0 <= c < cols and maze[r][c] != '#':\n",
    "            for dr, dc in steps:\n",
    "                nr, nc = r + dr, c + dc\n",
    "                # Here, in every circumstances, the only added score is 1, representing the step.\n",
    "                # Walking back will never happen because it would immediately lead to a score that is higher then the\n",
    "                # current lowest score on the position walked back on\n",
    "                if 0 <= nr < rows and 0 <= nc < cols and maze[nr][nc] != '#' and ((nr, nc) not in score_by_position or score_by_position[(nr, nc)] > current_score + 1):\n",
    "                    queue.append([(nr, nc), current_score + 1])\n",
    "                    score_by_position[(nr, nc)] =  current_score + 1\n",
    "                \n",
    "    return score_by_position[(end[0],end[1])]"
   ]
  },
  {
   "cell_type": "code",
   "execution_count": 5,
   "id": "7b8c0250",
   "metadata": {},
   "outputs": [
    {
     "name": "stdout",
     "output_type": "stream",
     "text": [
      "Shortest path: 330\n"
     ]
    }
   ],
   "source": [
    "total_score = bfs_pathfinding(maze, start_position, end_position)\n",
    "\n",
    "print(f\"Shortest path: {total_score}\")"
   ]
  },
  {
   "cell_type": "markdown",
   "id": "9ab8c41d",
   "metadata": {},
   "source": [
    "## Part 2\n",
    "### https://adventofcode.com/2024/day/18#part2"
   ]
  },
  {
   "cell_type": "code",
   "execution_count": 7,
   "id": "8a05a0da",
   "metadata": {},
   "outputs": [],
   "source": [
    "from collections import deque\n",
    "\n",
    "def bfs_pathfinding_two(maze, start, end):\n",
    "    \n",
    "    rows = len(maze)\n",
    "    cols = len(maze[0])\n",
    "    \n",
    "    steps = [(0,-1),(0,1),(1,0),(-1,0)]\n",
    "    \n",
    "    queue = deque([[(start[0],start[1]), 0]])\n",
    "    \n",
    "    score_by_position = {(start[0],start[1]): 0}\n",
    "        \n",
    "    while queue:\n",
    "        \n",
    "        current_position_score = queue.popleft()\n",
    "        current_position = current_position_score[0]\n",
    "        current_score = current_position_score[1]\n",
    "         \n",
    "        r, c = current_position\n",
    "        \n",
    "        if 0 <= r < rows and 0 <= c < cols and maze[r][c] != '#':\n",
    "            for dr, dc in steps:\n",
    "                nr, nc = r + dr, c + dc\n",
    "                if 0 <= nr < rows and 0 <= nc < cols and maze[nr][nc] != '#' and ((nr, nc) not in score_by_position or score_by_position[(nr, nc)] > current_score + 1):\n",
    "                    queue.append([(nr, nc), current_score + 1])\n",
    "                    score_by_position[(nr, nc)] =  current_score + 1\n",
    "                \n",
    "    # The only difference with the previous function is to account for the fact that \n",
    "    # the exit could not be reached, in which case we return none\n",
    "    if (end[0],end[1]) in score_by_position:\n",
    "        return score_by_position[(end[0],end[1])]\n",
    "    else:\n",
    "        return None"
   ]
  },
  {
   "cell_type": "code",
   "execution_count": 11,
   "id": "136d6cd5",
   "metadata": {},
   "outputs": [
    {
     "name": "stdout",
     "output_type": "stream",
     "text": [
      "10,38\n"
     ]
    }
   ],
   "source": [
    "# Reading the data input file\n",
    "input_file = open(\"challenge_18_input.txt\", \"r\")\n",
    "\n",
    "maze_size = 71\n",
    "\n",
    "maze = []\n",
    "maze_row = [\".\"] * maze_size\n",
    "\n",
    "for i in range(maze_size):\n",
    "    maze.append(maze_row.copy())\n",
    "\n",
    "start_position = (0,0)\n",
    "end_position = (maze_size - 1,maze_size - 1)\n",
    "\n",
    "for line in input_file:\n",
    "    numbers = line.strip()\n",
    "    numbers = numbers.split(\",\")\n",
    "    x = int(numbers[0])\n",
    "    y = int(numbers[1])\n",
    "    maze[y][x] = '#'\n",
    "    # We run the pathfinding algorithm at every byte, and print\n",
    "    # the position of the first byte at which the exit is no longer reachable\n",
    "    path = bfs_pathfinding_two(maze, start_position, end_position)\n",
    "    if path is None:\n",
    "        print(f\"{x},{y}\")\n",
    "        break"
   ]
  }
 ],
 "metadata": {
  "kernelspec": {
   "display_name": "Python 3 (ipykernel)",
   "language": "python",
   "name": "python3"
  },
  "language_info": {
   "codemirror_mode": {
    "name": "ipython",
    "version": 3
   },
   "file_extension": ".py",
   "mimetype": "text/x-python",
   "name": "python",
   "nbconvert_exporter": "python",
   "pygments_lexer": "ipython3",
   "version": "3.9.13"
  }
 },
 "nbformat": 4,
 "nbformat_minor": 5
}
