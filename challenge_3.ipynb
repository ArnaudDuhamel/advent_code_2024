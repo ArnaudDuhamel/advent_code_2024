{
 "cells": [
  {
   "cell_type": "markdown",
   "id": "51fce735",
   "metadata": {},
   "source": [
    "# Advent of code 2024\n",
    "## Challenge 3"
   ]
  },
  {
   "cell_type": "markdown",
   "id": "53e42295",
   "metadata": {},
   "source": [
    "The second part of the challenge was also more challenging in the sense that I took much more time then I should have on it trying to find an effective solution. After giving this up passed many hours, I went for a simpler solution that was somehow not so effective but it turns out that I am quite satisfied with it. It is short and simple."
   ]
  },
  {
   "cell_type": "markdown",
   "id": "4632098e",
   "metadata": {},
   "source": [
    "## Part 1\n",
    "### https://adventofcode.com/2024/day/3"
   ]
  },
  {
   "cell_type": "code",
   "execution_count": 1,
   "id": "d7440b96",
   "metadata": {},
   "outputs": [],
   "source": [
    "import re"
   ]
  },
  {
   "cell_type": "code",
   "execution_count": 2,
   "id": "4d53a3fb",
   "metadata": {},
   "outputs": [
    {
     "name": "stdout",
     "output_type": "stream",
     "text": [
      "173731097\n"
     ]
    }
   ],
   "source": [
    "# Reading the data input file\n",
    "input_file = open(\"challenge_3_input.txt\", \"r\")\n",
    "\n",
    "# This regex matches all mul() functions that contains a tuple of numbers with between 1 and 3 digits inclusively.\n",
    "# The catch groups are the numbers, so the regex extracts the numbers as a tuple of strings\n",
    "regex_multiplication_functions = r'mul\\(([0-9]{1,3}),([0-9]{1,3})\\)'\n",
    "\n",
    "# Temporary variables to make the main calculation\n",
    "multiplication_tuples_list = []\n",
    "line_total = 0\n",
    "total = 0\n",
    "\n",
    "for line in input_file:\n",
    "    line.strip()\n",
    "    multiplication_tuples_list = re.findall(regex_multiplication_functions, line)\n",
    "    \n",
    "    if multiplication_tuples_list:\n",
    "        # In each tuple, the numbers are converted to integers, multiplied together and added to the \n",
    "        # line total.\n",
    "        for multiplication_tuple in multiplication_tuples_list:\n",
    "            line_total += int(multiplication_tuple[0]) * int(multiplication_tuple[1])\n",
    "        # The line total is added to the main total after going through each list of tuples\n",
    "        total += line_total\n",
    "        line_total = 0\n",
    "        \n",
    "    \n",
    "    \n",
    "print(total)\n",
    "input_file.close()"
   ]
  },
  {
   "cell_type": "markdown",
   "id": "2d298fae",
   "metadata": {},
   "source": [
    "## Part 2"
   ]
  },
  {
   "cell_type": "code",
   "execution_count": 62,
   "id": "c3dfcd94",
   "metadata": {},
   "outputs": [
    {
     "name": "stdout",
     "output_type": "stream",
     "text": [
      "93729253\n"
     ]
    }
   ],
   "source": [
    "# Reading the data input file\n",
    "input_file = open(\"challenge_3_input.txt\", \"r\")\n",
    "\n",
    "# This regex matches the mul() functions with numbers of 1-3 digits\n",
    "# as well as don't() and do() functions\n",
    "# All the matches of the line are inserted in a list\n",
    "regex_all_matches = r'mul\\([0-9]{1,3},[0-9]{1,3}\\)|do\\(\\)|don\\'t\\(\\)'\n",
    "\n",
    "# This regex is the same as above\n",
    "regex_extract_numbers = r'mul\\(([0-9]{1,3}),([0-9]{1,3})\\)'\n",
    "\n",
    "# This is really the only information that needs to be stored.\n",
    "# The line starts as activated until the first don't() occurence\n",
    "# so this variable starts at True\n",
    "do_activated = True\n",
    "\n",
    "multiplication_tuples_list = []\n",
    "line_total = 0\n",
    "total = 0\n",
    "\n",
    "for line in input_file:\n",
    "    line.strip()\n",
    "    \n",
    "    # The list of all function occurences\n",
    "    muls_dos_donts = re.findall(regex_all_matches, line)\n",
    "    \n",
    "    # It is iterated through each function in the list\n",
    "    for value in muls_dos_donts:\n",
    "        # If it is a mul() function and the line is activated, the multiplication of the tuple numbers \n",
    "        # Is added to the line total\n",
    "        if value != \"do()\" and value != \"don't()\" and do_activated:\n",
    "            numbers = re.findall(regex_extract_numbers, value)[0]\n",
    "            line_total += int(numbers[0]) * int(numbers[1])\n",
    "        # If the line is activated, it is deactivated at the first occurence of the don't function\n",
    "        elif value == \"don't()\" and do_activated:\n",
    "            do_activated = False\n",
    "        # If the line is deactivated, it is activated at the first occurence of a do() function\n",
    "        elif value == \"do()\" and not do_activated:\n",
    "            do_activated = True\n",
    "    \n",
    "    # The line calculations are added to the main total\n",
    "    total += line_total\n",
    "    line_total = 0\n",
    "                \n",
    "print(total)\n",
    "input_file.close()"
   ]
  }
 ],
 "metadata": {
  "kernelspec": {
   "display_name": "Python 3 (ipykernel)",
   "language": "python",
   "name": "python3"
  },
  "language_info": {
   "codemirror_mode": {
    "name": "ipython",
    "version": 3
   },
   "file_extension": ".py",
   "mimetype": "text/x-python",
   "name": "python",
   "nbconvert_exporter": "python",
   "pygments_lexer": "ipython3",
   "version": "3.9.13"
  }
 },
 "nbformat": 4,
 "nbformat_minor": 5
}
