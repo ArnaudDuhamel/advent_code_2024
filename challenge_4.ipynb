{
 "cells": [
  {
   "cell_type": "markdown",
   "id": "c0481100",
   "metadata": {},
   "source": [
    "# Advent of code 2024\n",
    "## Challenge 4"
   ]
  },
  {
   "cell_type": "markdown",
   "id": "1312c013",
   "metadata": {},
   "source": [
    "The visualization matrix in the challenge was not necessary, but I wanted to use it to see if my code acted right."
   ]
  },
  {
   "cell_type": "markdown",
   "id": "81b5ff3a",
   "metadata": {},
   "source": [
    "## Part 1\n",
    "### https://adventofcode.com/2024/day/4"
   ]
  },
  {
   "cell_type": "code",
   "execution_count": 1,
   "id": "546fc4b1",
   "metadata": {},
   "outputs": [],
   "source": [
    "# This function, along with every other functions below, perform the checks in the list of lists.\n",
    "# The first two functions only look horizontally, so only passing a nested list is sufficient\n",
    "# For every other list, the whole list of lists must be passed\n",
    "# To make it more effective, if the function matches xmas, it returns 1, if not 0, so that it is immediately\n",
    "# added to the total\n",
    "def xmas_check_left_to_right(main_list_index = 0, nested_list_index = 0, line = [], vizualisation_matrix = []): \n",
    "    if(line[nested_list_index + 1] == 'M' and\n",
    "       line[nested_list_index + 2] == 'A' and\n",
    "       line[nested_list_index + 3] == 'S'):\n",
    "        # If there is a match, the letters are inserted in a visualization matrix for reference\n",
    "        vizualisation_matrix[main_list_index][nested_list_index] = 'X'\n",
    "        vizualisation_matrix[main_list_index][nested_list_index + 1] = 'M'\n",
    "        vizualisation_matrix[main_list_index][nested_list_index + 2] = 'A'\n",
    "        vizualisation_matrix[main_list_index][nested_list_index + 3] = 'S'\n",
    "        return 1\n",
    "    else: \n",
    "        return 0\n",
    "        "
   ]
  },
  {
   "cell_type": "code",
   "execution_count": 2,
   "id": "206d578e",
   "metadata": {},
   "outputs": [],
   "source": [
    "def xmas_check_right_to_left(main_list_index = 0, nested_list_index = 0, line = [], vizualisation_matrix = []): \n",
    "    if(line[nested_list_index - 1] == 'M' and\n",
    "       line[nested_list_index - 2] == 'A' and\n",
    "       line[nested_list_index - 3] == 'S'):\n",
    "        vizualisation_matrix[main_list_index][nested_list_index] = 'X'\n",
    "        vizualisation_matrix[main_list_index][nested_list_index - 1] = 'M'\n",
    "        vizualisation_matrix[main_list_index][nested_list_index - 2] = 'A'\n",
    "        vizualisation_matrix[main_list_index][nested_list_index - 3] = 'S'\n",
    "        return 1\n",
    "    else: \n",
    "        return 0"
   ]
  },
  {
   "cell_type": "code",
   "execution_count": 3,
   "id": "40d4d79a",
   "metadata": {},
   "outputs": [],
   "source": [
    "def xmas_check_bottom_to_top(main_list_index = 0, nested_list_index = 0, main_list = [], vizualisation_matrix = []): \n",
    "    if(main_list[main_list_index - 1][nested_list_index] == 'M' and\n",
    "       main_list[main_list_index - 2][nested_list_index] == 'A' and\n",
    "       main_list[main_list_index - 3][nested_list_index] == 'S'):\n",
    "        vizualisation_matrix[main_list_index][nested_list_index] = 'X'\n",
    "        vizualisation_matrix[main_list_index - 1][nested_list_index] = 'M'\n",
    "        vizualisation_matrix[main_list_index - 2][nested_list_index] = 'A'\n",
    "        vizualisation_matrix[main_list_index - 3][nested_list_index] = 'S'\n",
    "        return 1\n",
    "    else: \n",
    "        return 0"
   ]
  },
  {
   "cell_type": "code",
   "execution_count": 4,
   "id": "d70bc634",
   "metadata": {},
   "outputs": [],
   "source": [
    "def xmas_check_top_to_bottom(main_list_index = 0, nested_list_index = 0, main_list = [], vizualisation_matrix = []): \n",
    "    if(main_list[main_list_index + 1][nested_list_index] == 'M' and\n",
    "       main_list[main_list_index + 2][nested_list_index] == 'A' and\n",
    "       main_list[main_list_index + 3][nested_list_index] == 'S'):\n",
    "        vizualisation_matrix[main_list_index][nested_list_index] = 'X'\n",
    "        vizualisation_matrix[main_list_index + 1][nested_list_index] = 'M'\n",
    "        vizualisation_matrix[main_list_index + 2][nested_list_index] = 'A'\n",
    "        vizualisation_matrix[main_list_index + 3][nested_list_index] = 'S'\n",
    "        return 1\n",
    "    else: \n",
    "        return 0"
   ]
  },
  {
   "cell_type": "code",
   "execution_count": 5,
   "id": "e40b3538",
   "metadata": {},
   "outputs": [],
   "source": [
    "def xmas_check_bottom_left_to_top_right(main_list_index = 0, nested_list_index = 0, main_list = [], vizualisation_matrix = []): \n",
    "    if(main_list[main_list_index - 1][nested_list_index + 1] == 'M' and\n",
    "       main_list[main_list_index - 2][nested_list_index + 2] == 'A' and\n",
    "       main_list[main_list_index - 3][nested_list_index + 3] == 'S'):\n",
    "        vizualisation_matrix[main_list_index][nested_list_index] = 'X'\n",
    "        vizualisation_matrix[main_list_index - 1][nested_list_index + 1] = 'M'\n",
    "        vizualisation_matrix[main_list_index - 2][nested_list_index + 2] = 'A'\n",
    "        vizualisation_matrix[main_list_index - 3][nested_list_index + 3] = 'S'\n",
    "        return 1\n",
    "    else: \n",
    "        return 0"
   ]
  },
  {
   "cell_type": "code",
   "execution_count": 6,
   "id": "3596bb77",
   "metadata": {},
   "outputs": [],
   "source": [
    "def xmas_check_bottom_right_to_top_left(main_list_index = 0, nested_list_index = 0, main_list = [], vizualisation_matrix = []): \n",
    "    if(main_list[main_list_index - 1][nested_list_index - 1] == 'M' and\n",
    "       main_list[main_list_index - 2][nested_list_index - 2] == 'A' and\n",
    "       main_list[main_list_index - 3][nested_list_index - 3] == 'S'):\n",
    "        vizualisation_matrix[main_list_index][nested_list_index] = 'X'\n",
    "        vizualisation_matrix[main_list_index - 1][nested_list_index - 1] = 'M'\n",
    "        vizualisation_matrix[main_list_index - 2][nested_list_index - 2] = 'A'\n",
    "        vizualisation_matrix[main_list_index - 3][nested_list_index - 3] = 'S'\n",
    "        return 1\n",
    "    else: \n",
    "        return 0"
   ]
  },
  {
   "cell_type": "code",
   "execution_count": 7,
   "id": "a1240c5b",
   "metadata": {},
   "outputs": [],
   "source": [
    "def xmas_check_top_left_to_bottom_right(main_list_index = 0, nested_list_index = 0, main_list = [], vizualisation_matrix = []): \n",
    "    if(main_list[main_list_index + 1][nested_list_index + 1] == 'M' and\n",
    "       main_list[main_list_index + 2][nested_list_index + 2] == 'A' and\n",
    "       main_list[main_list_index + 3][nested_list_index + 3] == 'S'):\n",
    "        vizualisation_matrix[main_list_index][nested_list_index] = 'X'\n",
    "        vizualisation_matrix[main_list_index + 1][nested_list_index + 1] = 'M'\n",
    "        vizualisation_matrix[main_list_index + 2][nested_list_index + 2] = 'A'\n",
    "        vizualisation_matrix[main_list_index + 3][nested_list_index + 3] = 'S'\n",
    "        return 1\n",
    "    else: \n",
    "        return 0"
   ]
  },
  {
   "cell_type": "code",
   "execution_count": 8,
   "id": "eca1a9e8",
   "metadata": {},
   "outputs": [],
   "source": [
    "def xmas_check_top_right_to_bottom_left(main_list_index = 0, nested_list_index = 0, main_list = [], vizualisation_matrix = []): \n",
    "    if(main_list[main_list_index + 1][nested_list_index - 1] == 'M' and\n",
    "       main_list[main_list_index + 2][nested_list_index - 2] == 'A' and\n",
    "       main_list[main_list_index + 3][nested_list_index - 3] == 'S'):\n",
    "        vizualisation_matrix[main_list_index][nested_list_index] = 'X'\n",
    "        vizualisation_matrix[main_list_index + 1][nested_list_index - 1] = 'M'\n",
    "        vizualisation_matrix[main_list_index + 2][nested_list_index - 2] = 'A'\n",
    "        vizualisation_matrix[main_list_index + 3][nested_list_index - 3] = 'S'\n",
    "        return 1\n",
    "    else: \n",
    "        return 0"
   ]
  },
  {
   "cell_type": "code",
   "execution_count": 9,
   "id": "859b5bdc",
   "metadata": {},
   "outputs": [],
   "source": [
    "# Reading the data input file\n",
    "input_file = open(\"challenge_4_input.txt\", \"r\")\n",
    "\n",
    "line_of_characters = []\n",
    "list_of_lines = []\n",
    "total_occurences = 0\n",
    "vizualisation_matrix = []\n",
    "\n",
    "for line in input_file:\n",
    "    line_of_characters = list(line.strip())\n",
    "    list_of_lines.append(line_of_characters)\n",
    "    vizualisation_matrix.append(['.'] * len(line_of_characters))\n",
    "    \n",
    "for index_main_list, nested_list in enumerate(list_of_lines):\n",
    "    for index_nested_list, character in enumerate(nested_list):\n",
    "        # This is is the vertical look ahead, so there needs to be at least 3 nested lists ahead of the character\n",
    "        if(index_main_list <= len(list_of_lines) - 4 and character == 'X'):\n",
    "            total_occurences += xmas_check_top_to_bottom(index_main_list, index_nested_list, list_of_lines, vizualisation_matrix)\n",
    "        # This is the vertical look back, so there needs to be at least 3 nested lists behind the character\n",
    "        if(index_main_list >= 3 and character == 'X'):\n",
    "            total_occurences += xmas_check_bottom_to_top(index_main_list, index_nested_list, list_of_lines, vizualisation_matrix)\n",
    "        \n",
    "        # This is the horizontal look ahead, so there needs to be at least 3 indexes ahead of the character\n",
    "        if(index_nested_list <= len(nested_list) - 4 and character == 'X'):\n",
    "            total_occurences += xmas_check_left_to_right(index_main_list, index_nested_list, nested_list, vizualisation_matrix)\n",
    "        # This is the horizontal look back, so there needs to be at least 3 indexes behind the character\n",
    "        if(index_nested_list >= 3 and character == 'X'):\n",
    "            total_occurences += xmas_check_right_to_left(index_main_list, index_nested_list, nested_list, vizualisation_matrix)\n",
    "        \n",
    "        # From bottom left to top right, there has to be at least 3 indexes ahead of the character and at least 3\n",
    "        # nested lists above the character\n",
    "        if(index_main_list >= 3 and index_nested_list <= len(nested_list) - 4 and character == 'X'):\n",
    "            total_occurences += xmas_check_bottom_left_to_top_right(index_main_list, index_nested_list, list_of_lines, vizualisation_matrix)\n",
    "        # From bottom right to top left, there must be at least 3 indexes behind the character and at least 3 nested\n",
    "        # lists above the character\n",
    "        if(index_main_list >= 3 and index_nested_list >= 3 and character == 'X'):\n",
    "            total_occurences += xmas_check_bottom_right_to_top_left(index_main_list, index_nested_list, list_of_lines, vizualisation_matrix)\n",
    "        # From top left to bottom right there must be at least 3 indexes ahead of the character and 3 nested lists under\n",
    "        # the character\n",
    "        if(index_main_list <= len(list_of_lines) - 4 and index_nested_list <= len(nested_list) - 4 and character == 'X'):\n",
    "            total_occurences += xmas_check_top_left_to_bottom_right(index_main_list, index_nested_list, list_of_lines, vizualisation_matrix)\n",
    "        # From top right to bottom left there must be at least 3 indexes behind the character and 3 nested lists under\n",
    "        # the character\n",
    "        if(index_main_list <= len(list_of_lines) - 4 and index_nested_list >= 3 and character == 'X'):\n",
    "            total_occurences += xmas_check_top_right_to_bottom_left(index_main_list, index_nested_list, list_of_lines, vizualisation_matrix)\n",
    "            \n",
    "input_file.close()"
   ]
  },
  {
   "cell_type": "code",
   "execution_count": null,
   "id": "99209be3",
   "metadata": {},
   "outputs": [],
   "source": [
    "# Printing results\n",
    "print(total_occurences)\n",
    "\n",
    "for line in vizualisation_matrix:\n",
    "    print(line)\n",
    "    \n",
    "for line in vizualisation_matrix:\n",
    "    print(''.join(line))"
   ]
  },
  {
   "cell_type": "markdown",
   "id": "199054f4",
   "metadata": {},
   "source": [
    "## Part 2"
   ]
  },
  {
   "cell_type": "code",
   "execution_count": 31,
   "id": "ac262a8d",
   "metadata": {},
   "outputs": [],
   "source": [
    "# This function is triggered when the character at the provided indexes of the main list is an A\n",
    "# It then checks if the diagonals in which this A intersects form either the word MAS or SAM\n",
    "# If it does, it returns 1 and this 1 is added to the total occurences. \n",
    "# Writing the characters in a visualization matrix is optional but I wanted to do it to see if my code acts right\n",
    "def mas_check(main_list_index = 0, nested_list_index = 0, main_list = [], vizualisation_matrix = []): \n",
    "    diagonal_top_left_to_bottom_right = ((main_list[main_list_index - 1][nested_list_index - 1] == 'M' and\n",
    "                                          main_list[main_list_index + 1][nested_list_index + 1] == 'S') or\n",
    "                                         (main_list[main_list_index - 1][nested_list_index - 1] == 'S' and\n",
    "                                          main_list[main_list_index + 1][nested_list_index + 1] == 'M'))\n",
    "    \n",
    "    diagonal_top_right_to_bottom_left = ((main_list[main_list_index - 1][nested_list_index + 1] == 'M' and\n",
    "                                          main_list[main_list_index + 1][nested_list_index - 1] == 'S') or\n",
    "                                         (main_list[main_list_index - 1][nested_list_index + 1] == 'S' and\n",
    "                                          main_list[main_list_index + 1][nested_list_index - 1] == 'M'))\n",
    "                                                \n",
    "    if(diagonal_top_left_to_bottom_right and diagonal_top_right_to_bottom_left):\n",
    "        vizualisation_matrix[main_list_index][nested_list_index] = main_list[main_list_index][nested_list_index]\n",
    "        vizualisation_matrix[main_list_index - 1][nested_list_index - 1] = main_list[main_list_index - 1][nested_list_index - 1] \n",
    "        vizualisation_matrix[main_list_index + 1][nested_list_index + 1] = main_list[main_list_index + 1][nested_list_index + 1]\n",
    "        vizualisation_matrix[main_list_index - 1][nested_list_index + 1] = main_list[main_list_index - 1][nested_list_index + 1]\n",
    "        vizualisation_matrix[main_list_index + 1][nested_list_index - 1] = main_list[main_list_index + 1][nested_list_index - 1]\n",
    "        return 1\n",
    "    else: \n",
    "        return 0"
   ]
  },
  {
   "cell_type": "code",
   "execution_count": 36,
   "id": "00a97d55",
   "metadata": {},
   "outputs": [],
   "source": [
    "input_file = open(\"challenge_4_input.txt\", \"r\")\n",
    "\n",
    "line_of_characters = []\n",
    "list_of_lines = []\n",
    "total_occurences = 0\n",
    "validation_matrix = []\n",
    "\n",
    "for line in input_file:\n",
    "    line_of_characters = list(line.strip())\n",
    "    list_of_lines.append(line_of_characters)\n",
    "    vizualisation_matrix.append(['.'] * len(line_of_characters))\n",
    "    \n",
    "for index_main_list, nested_list in enumerate(list_of_lines):\n",
    "    for index_nested_list, character in enumerate(nested_list):\n",
    "        # The check is triggered if the current character is an A and if the character has at least one index behind,\n",
    "        # one index ahead, one list behind and one list ahead, to make sure that it can form two diagonals with A at the\n",
    "        # center\n",
    "        if(index_main_list >= 1 and\n",
    "           index_main_list <= len(list_of_lines) - 2 and\n",
    "           index_nested_list <= len(nested_list) - 2 and\n",
    "           index_nested_list >= 1 and\n",
    "           character == 'A'):\n",
    "             total_occurences += mas_check(index_main_list, index_nested_list, list_of_lines, vizualisation_matrix)\n",
    "\n",
    "input_file.close()"
   ]
  },
  {
   "cell_type": "code",
   "execution_count": null,
   "id": "5bc5b72e",
   "metadata": {},
   "outputs": [],
   "source": [
    "# Printing results\n",
    "print(total_occurences)\n",
    "\n",
    "for line in vizualisation_matrix:\n",
    "    print(line)\n",
    "    \n",
    "for line in vizualisation_matrix:\n",
    "    print(''.join(line))"
   ]
  }
 ],
 "metadata": {
  "kernelspec": {
   "display_name": "Python 3 (ipykernel)",
   "language": "python",
   "name": "python3"
  },
  "language_info": {
   "codemirror_mode": {
    "name": "ipython",
    "version": 3
   },
   "file_extension": ".py",
   "mimetype": "text/x-python",
   "name": "python",
   "nbconvert_exporter": "python",
   "pygments_lexer": "ipython3",
   "version": "3.9.13"
  }
 },
 "nbformat": 4,
 "nbformat_minor": 5
}
