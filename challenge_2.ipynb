{
 "cells": [
  {
   "cell_type": "markdown",
   "id": "85168c41",
   "metadata": {},
   "source": [
    "# Advent of code 2024\n",
    "## Challenge 2"
   ]
  },
  {
   "cell_type": "markdown",
   "id": "64dfee73",
   "metadata": {},
   "source": [
    "I spent a good amount of time, after the puzzle was solved, to improve the quality of the code.\n",
    "I fell in the trap of trying to be efficient before solving the problem, so I tried to find a \"clean\" solution to solving part 2 of the challenge. I spent way too much time looking for that. In the end, I brute forced it by going through every possible level removal. This worked. \n",
    "At least with a bit of efficiency, when a safe modification is found, the iteration stops."
   ]
  },
  {
   "cell_type": "markdown",
   "id": "0fa3532d",
   "metadata": {},
   "source": [
    "## Part 1\n",
    "### https://adventofcode.com/2024/day/2#part1"
   ]
  },
  {
   "cell_type": "code",
   "execution_count": 1,
   "id": "eeda38ae",
   "metadata": {},
   "outputs": [],
   "source": [
    "import re"
   ]
  },
  {
   "cell_type": "code",
   "execution_count": 2,
   "id": "06bdd9d8",
   "metadata": {},
   "outputs": [],
   "source": [
    "# This function takes a report, see if the first 2 levels are increasing, decreasing\n",
    "# or the same. There is a validation function depending on if it is increasing or \n",
    "# decreasing.\n",
    "# It returns an int to make it more convenient for the first part of the problem.\n",
    "# To be able to count the amount of safe reports.\n",
    "# A safe report returns 1, unsafe returns 0.\n",
    "def is_report_safe(report = []):\n",
    "    difference_between_first_two_numbers = report[0] - report[1]\n",
    "    if (difference_between_first_two_numbers < 0):\n",
    "        return is_safe_increasing(report.pop(0),report)\n",
    "    elif (difference_between_first_two_numbers > 0):\n",
    "        return is_safe_decreasing(report.pop(0),report)\n",
    "    else:\n",
    "        return 0"
   ]
  },
  {
   "cell_type": "code",
   "execution_count": 3,
   "id": "515dfe5e",
   "metadata": {},
   "outputs": [],
   "source": [
    "# This function decides if the report is safe when increasing. The function is recursive\n",
    "# I chose recursion to be able to stop the iteration if an error is detected\n",
    "def is_safe_increasing(previous_number = 0, number_list = []):\n",
    "    # If the list is empty, it means the recursion reached the end of the list and the report is safe\n",
    "    # and 1 is returned\n",
    "    if not number_list:\n",
    "        return 1\n",
    "    # The current number will be checked against the previous number\n",
    "    # and the list is popped for further recursion\n",
    "    current_number = number_list.pop(0)\n",
    "    element_difference = previous_number - current_number\n",
    "    # If the check returns an error the report is unsafe and the recursion is stopped\n",
    "    # by returning 0\n",
    "    if (element_difference >= 0 or element_difference < -3):\n",
    "        return 0\n",
    "    else:\n",
    "        # Otherwise the recursion continues\n",
    "        return is_safe_increasing(current_number, number_list)"
   ]
  },
  {
   "cell_type": "code",
   "execution_count": 4,
   "id": "646dd6c0",
   "metadata": {},
   "outputs": [],
   "source": [
    "# The function is the same as above, but checks the safety of a report when it is in decreasing order\n",
    "# The only difference with the function above is the check of the element difference. \n",
    "def is_safe_decreasing(previous_number = 0, number_list = []):\n",
    "    if not number_list:\n",
    "        return 1\n",
    "    current_number = number_list.pop(0)\n",
    "    element_difference = previous_number - current_number\n",
    "    if (element_difference <= 0 or element_difference > 3):\n",
    "        return 0\n",
    "    else:\n",
    "        return is_safe_decreasing(current_number, number_list)"
   ]
  },
  {
   "cell_type": "code",
   "execution_count": null,
   "id": "8d5e38d9",
   "metadata": {},
   "outputs": [],
   "source": [
    "# Reading the data input file\n",
    "input_file = open(\"challenge_2_input.txt\", \"r\")\n",
    "\n",
    "# Temporary variables used to process the input data\n",
    "string_list = []\n",
    "int_list = []\n",
    "amount_of_safe_reports = 0\n",
    "\n",
    "for line in input_file:\n",
    "    # This line removes exceeding spaces, trailing spaces and split each string at every space\n",
    "    string_list = re.sub('\\s{2,}', ' ', line).strip().split(\" \")\n",
    "    # The strings contained in the list created by the line above are converted in ints\n",
    "    for string in string_list:\n",
    "        int_list.append(int(string))\n",
    "    # The report is the checked for safety and the return of the function\n",
    "    amount_of_safe_reports += is_report_safe(int_list)\n",
    "    int_list = []\n",
    "\n",
    "input_file.close()\n",
    "print(amount_of_safe_reports)"
   ]
  },
  {
   "cell_type": "markdown",
   "id": "4406535c",
   "metadata": {},
   "source": [
    "## Part 2"
   ]
  },
  {
   "cell_type": "code",
   "execution_count": null,
   "id": "01ac85ca",
   "metadata": {
    "scrolled": false
   },
   "outputs": [],
   "source": [
    "input_file = open(\"challenge_2_input.txt\", \"r\")\n",
    "\n",
    "string_list = []\n",
    "int_list = []\n",
    "copy_list = []\n",
    "second_copy_list = []\n",
    "amount_of_safe_reports = 0\n",
    "\n",
    "for line in input_file:\n",
    "    string_list = re.sub('\\s{2,}', ' ', line).strip().split(\" \")\n",
    "    for string in string_list:\n",
    "        int_list.append(int(string))\n",
    "    \n",
    "    # A new list is created in the case that the report will be unsafe\n",
    "    # this needs to be done as the first list will be modified by the \n",
    "    # pop operations\n",
    "    copy_list = int_list.copy()\n",
    "    \n",
    "    # here, the validation function is included in an if statement because if\n",
    "    # the report is unsafe, another verification is triggered\n",
    "    if (is_report_safe(int_list) == 1):\n",
    "        amount_of_safe_reports += 1\n",
    "    else:\n",
    "        # this validation takes into account the problem dampener\n",
    "        # the method that I came up with is to try to remove one number\n",
    "        # in the list, ont by one, and see if the removal makes the report safe\n",
    "        # I consider that a brute force approach and worked hard to find a more \n",
    "        # effective way, but in the end I did not.\n",
    "        for i in range(len(copy_list)):\n",
    "            # Another copy is made at each iteration, because the previous list has to \n",
    "            # be kept to continue the iteration and to be able to generate a new copy of\n",
    "            # the original list at every iteration\n",
    "            second_copy_list = copy_list.copy()\n",
    "            # At each iteration, the number at the index of the iteration is removed to see if\n",
    "            # that makes the report safe.\n",
    "            second_copy_list.pop(i)\n",
    "            # the validation function is again in an if statement so that a break statement \n",
    "            # can stop the loop if the removal of the level makes the report safe\n",
    "            if (is_report_safe(second_copy_list) == 1):\n",
    "                amount_of_safe_reports += 1\n",
    "                break      \n",
    "    int_list = []\n",
    "\n",
    "input_file.close()\n",
    "print(amount_of_safe_reports)"
   ]
  }
 ],
 "metadata": {
  "kernelspec": {
   "display_name": "Python 3 (ipykernel)",
   "language": "python",
   "name": "python3"
  },
  "language_info": {
   "codemirror_mode": {
    "name": "ipython",
    "version": 3
   },
   "file_extension": ".py",
   "mimetype": "text/x-python",
   "name": "python",
   "nbconvert_exporter": "python",
   "pygments_lexer": "ipython3",
   "version": "3.9.13"
  }
 },
 "nbformat": 4,
 "nbformat_minor": 5
}
