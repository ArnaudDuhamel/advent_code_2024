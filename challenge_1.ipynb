{
 "cells": [
  {
   "cell_type": "markdown",
   "id": "8515d3ae",
   "metadata": {},
   "source": [
    "# Advent of code 2024\n",
    "## Challenge 1\n",
    "## Part 1\n",
    "### https://adventofcode.com/2024/day/1#part1"
   ]
  },
  {
   "cell_type": "code",
   "execution_count": 1,
   "id": "ef985c88",
   "metadata": {},
   "outputs": [],
   "source": [
    "import re"
   ]
  },
  {
   "cell_type": "code",
   "execution_count": 2,
   "id": "a75bd7aa",
   "metadata": {},
   "outputs": [],
   "source": [
    "# Reading the data input file\n",
    "input_file = open(\"challenge_1_input.txt\", \"r\")\n",
    "\n",
    "# Temporary lists used to process the input data\n",
    "string_list = []\n",
    "int_list = []\n",
    "\n",
    "# The lists each composed of one column of the data in the input file\n",
    "list_a = []\n",
    "list_b = []\n",
    "\n",
    "for line in input_file:\n",
    "    # This line removes exceeding spaces, trailing spaces and split each string at the middle space\n",
    "    string_list = re.sub('\\s{2,}', ' ', line).strip().split(\" \", 1)\n",
    "    # The two strings contained in the list created by the line above are converted in ints\n",
    "    for string in string_list:\n",
    "        int_list.append(int(string))\n",
    "    # Each index of the temporary list represents one column,\n",
    "    # the first column is inserted in list_a and the second in list_b\n",
    "    list_a.append(int_list[0])\n",
    "    list_b.append(int_list[1])\n",
    "    # The temporary list is reset\n",
    "    int_list = []\n",
    "    \n",
    "input_file.close()\n",
    "\n",
    "# The two lists are sorted according to the problem requirements\n",
    "list_a.sort()\n",
    "list_b.sort()"
   ]
  },
  {
   "cell_type": "code",
   "execution_count": 3,
   "id": "1d477633",
   "metadata": {},
   "outputs": [],
   "source": [
    "# Merging the two lists in a list of tuples\n",
    "list_merged = list(zip(list_a, list_b))\n",
    "\n",
    "distance_list = []\n",
    "\n",
    "for a, b in list_merged:\n",
    "    distance_list.append(abs(a - b))"
   ]
  },
  {
   "cell_type": "code",
   "execution_count": 4,
   "id": "0a16c358",
   "metadata": {},
   "outputs": [
    {
     "name": "stdout",
     "output_type": "stream",
     "text": [
      "1882714\n"
     ]
    }
   ],
   "source": [
    "# Calculating the sum of the distance list\n",
    "total_distance = sum(distance_list, start=0)\n",
    "\n",
    "print(total_distance)"
   ]
  },
  {
   "cell_type": "markdown",
   "id": "3cb589f6",
   "metadata": {},
   "source": [
    "## Part 2\n",
    "### https://adventofcode.com/2024/day/1#part2"
   ]
  },
  {
   "cell_type": "code",
   "execution_count": 5,
   "id": "339345f4",
   "metadata": {},
   "outputs": [],
   "source": [
    "# Create a list of unique numbers from the left list\n",
    "list_a_unique_numbers = list(set(list_a))\n",
    "\n",
    "# Convert the list of unique numbers to a dictionnary\n",
    "dictionnary_numbers_occurence_counters_in_list_b = {key: 0 for key in list_a_unique_numbers}\n",
    "\n",
    "# Iterate through list_b and find the occurences of each number of the dictionnary in list_b\n",
    "for number in list_b:\n",
    "    if number in dictionnary_numbers_occurence_counters_in_list_b:\n",
    "        dictionnary_numbers_occurence_counters_in_list_b[number] += 1"
   ]
  },
  {
   "cell_type": "code",
   "execution_count": 6,
   "id": "0ff9d511",
   "metadata": {},
   "outputs": [
    {
     "name": "stdout",
     "output_type": "stream",
     "text": [
      "19437052\n"
     ]
    }
   ],
   "source": [
    "# calculate the similarity score\n",
    "similarity_score = 0\n",
    "\n",
    "for number in list_a:\n",
    "    similarity_score += (number * dictionnary_numbers_occurence_counters_in_list_b[number])\n",
    "    \n",
    "print(similarity_score)"
   ]
  }
 ],
 "metadata": {
  "kernelspec": {
   "display_name": "Python 3 (ipykernel)",
   "language": "python",
   "name": "python3"
  },
  "language_info": {
   "codemirror_mode": {
    "name": "ipython",
    "version": 3
   },
   "file_extension": ".py",
   "mimetype": "text/x-python",
   "name": "python",
   "nbconvert_exporter": "python",
   "pygments_lexer": "ipython3",
   "version": "3.9.13"
  }
 },
 "nbformat": 4,
 "nbformat_minor": 5
}
