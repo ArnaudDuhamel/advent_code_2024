{
 "cells": [
  {
   "cell_type": "markdown",
   "id": "244e447d",
   "metadata": {},
   "source": [
    "# Advent of code 2024\n",
    "## Challenge 25\n",
    "## Part 1\n",
    "### https://adventofcode.com/2024/day/25#part1"
   ]
  },
  {
   "cell_type": "markdown",
   "id": "af6f7cd9",
   "metadata": {},
   "source": [
    "It seems like this challenge was quite easy. I managed to get through it without any help.\n",
    "However, for my algorithm to work, there need to be a \"\\n\" at the end of the input."
   ]
  },
  {
   "cell_type": "code",
   "execution_count": 19,
   "id": "58f10b24",
   "metadata": {},
   "outputs": [
    {
     "name": "stdout",
     "output_type": "stream",
     "text": [
      "3284\n"
     ]
    }
   ],
   "source": [
    "input_file = open(\"challenge_25_input.txt\", \"r\")\n",
    "\n",
    "count = 0\n",
    "\n",
    "first_line = True\n",
    "is_key = True\n",
    "\n",
    "key_list = []\n",
    "lock_list = []\n",
    "\n",
    "pin_heights = [0,0,0,0,0]\n",
    "\n",
    "total_matches = 0\n",
    "\n",
    "for line in input_file:\n",
    "    \n",
    "    # Many things happen when we hit a newlin charachter.\n",
    "    # Especially, that is when the height list is pushed in \n",
    "    # eight the lock lick or the key list\n",
    "    if line == \"\\n\":\n",
    "        # So that my values would match the explanations of the challenge\n",
    "        # I removed 1 at each column before pushing it in its list\n",
    "        pin_heights[0] -= 1\n",
    "        pin_heights[1] -= 1\n",
    "        pin_heights[2] -= 1\n",
    "        pin_heights[3] -= 1\n",
    "        pin_heights[4] -= 1\n",
    "        # Here we push it in the key_list if the \n",
    "        # input was a list, or to the lock list if\n",
    "        # it was a lock\n",
    "        if is_key:\n",
    "            key_list.append(pin_heights)\n",
    "        else:\n",
    "            lock_list.append(pin_heights)\n",
    "        # We reset the pin_heights list\n",
    "        # I used a list to be able to make additions on\n",
    "        # the values\n",
    "        pin_heights = [0,0,0,0,0]\n",
    "        # We reset the first line bolean because the next line will be\n",
    "        # the first line of either the key or the lock\n",
    "        first_line = True\n",
    "        # We hop over the rest because we are on an empty line\n",
    "        continue\n",
    "        \n",
    "    line = line.strip()\n",
    "    \n",
    "    # At the first, we find out if its a key or a lock\n",
    "    if first_line:\n",
    "        if line == \".....\":\n",
    "            is_key = True\n",
    "        else:\n",
    "            is_key = False\n",
    "        first_line = False\n",
    "     \n",
    "    # We split the line to analyze each value\n",
    "    line = list(line)\n",
    "    \n",
    "    # Wherever there is a '#', we add 1 to the corresponding\n",
    "    # pin height value\n",
    "    if line[0] == '#':\n",
    "        pin_heights[0] += 1\n",
    "    \n",
    "    if line[1] == '#':\n",
    "        pin_heights[1] += 1\n",
    "        \n",
    "    if line[2] == '#':\n",
    "        pin_heights[2] += 1\n",
    "        \n",
    "    if line[3] == '#':\n",
    "        pin_heights[3] += 1\n",
    "        \n",
    "    if line[4] == '#':\n",
    "        pin_heights[4] += 1\n",
    "\n",
    "# We go through every key and lock and see which one of the match\n",
    "for key in key_list:\n",
    "    for lock in lock_list:\n",
    "        # It does not need to be a perfect match, as long as the key and lock pins do not overlap, there is a match\n",
    "        if (key[0] + lock[0] <= 5) and (key[1] + lock[1] <= 5) and (key[2] + lock[2] <= 5) and (key[3] + lock[3] <= 5) and (key[4] + lock[4] <= 5):\n",
    "            total_matches += 1\n",
    "            \n",
    "print(total_matches)"
   ]
  }
 ],
 "metadata": {
  "kernelspec": {
   "display_name": "Python 3 (ipykernel)",
   "language": "python",
   "name": "python3"
  },
  "language_info": {
   "codemirror_mode": {
    "name": "ipython",
    "version": 3
   },
   "file_extension": ".py",
   "mimetype": "text/x-python",
   "name": "python",
   "nbconvert_exporter": "python",
   "pygments_lexer": "ipython3",
   "version": "3.9.13"
  }
 },
 "nbformat": 4,
 "nbformat_minor": 5
}
