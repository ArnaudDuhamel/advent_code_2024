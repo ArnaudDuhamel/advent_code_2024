{
 "cells": [
  {
   "cell_type": "markdown",
   "id": "6d01fb19",
   "metadata": {},
   "source": [
    "# Advent of code 2024\n",
    "## Challenge 23\n",
    "## Part 1\n",
    "### https://adventofcode.com/2024/day/2#part1"
   ]
  },
  {
   "cell_type": "markdown",
   "id": "b45e75b9",
   "metadata": {},
   "source": [
    "I am pretty proud of this challenge. I found a solution without absolutely no help on the algorithmic solution. And I was lucky enough that the challenge data did not require any form of optimization. Because I essentially brute forced the solution for both part 1 and 2. I was lucky enough that it worked."
   ]
  },
  {
   "cell_type": "code",
   "execution_count": 1,
   "id": "362a42b6",
   "metadata": {},
   "outputs": [],
   "source": [
    "input_file = open(\"challenge_23_input.txt\", \"r\")\n",
    "\n",
    "tree = {}\n",
    "\n",
    "node_list = []\n",
    "\n",
    "# In this part, we create the tree by creating a map\n",
    "# the keys being every node and the values being a list of every node\n",
    "# to which the key is connected to\n",
    "\n",
    "for line in input_file:\n",
    "    path = line.strip()\n",
    "    path = path.split('-')\n",
    "    if path[0] not in tree:\n",
    "        tree[path[0]] = []\n",
    "        tree[path[0]].append(path[1])\n",
    "    else:\n",
    "        tree[path[0]].append(path[1])\n",
    "        \n",
    "    if path[1] not in tree:\n",
    "        tree[path[1]] = []\n",
    "        tree[path[1]].append(path[0])\n",
    "    else:\n",
    "        tree[path[1]].append(path[0])\n",
    "       \n",
    "    # We also create a list of nodes \n",
    "    if path[0] not in node_list:\n",
    "        node_list.append(path[0])\n",
    "    if path[1] not in node_list:\n",
    "        node_list.append(path[1])"
   ]
  },
  {
   "cell_type": "code",
   "execution_count": null,
   "id": "e20ae621",
   "metadata": {},
   "outputs": [],
   "source": [
    "from itertools import combinations\n",
    "\n",
    "# We use list comprehension here to create the list of lans\n",
    "# that meet the requirements of the challenge\n",
    "\n",
    "# The built-in combinations function was a huge time-saver\n",
    "# because it creates a full list of the possible combination \n",
    "# without taking order into account\n",
    "\n",
    "# This is a brute force approach. We essentially look at all the \n",
    "# different possibilities here\n",
    "\n",
    "all_combinations = [\n",
    "    # Outputs a list of 3 nodes\n",
    "    combo for combo in combinations(node_list, 3)\n",
    "    # Filters to keep only the combinations where each node are connected\n",
    "    # to each other\n",
    "    if combo[1] in tree[combo[0]] and combo[2] in tree[combo[0]]\n",
    "    and combo[0] in tree[combo[1]] and combo[2] in tree[combo[1]]\n",
    "    and combo[0] in tree[combo[2]] and combo[1] in tree[combo[2]]\n",
    "    # and filter to only keep combinations where one of the nodes starts with 't'\n",
    "    and (combo[0][0] == 't' or combo[1][0] == 't' or combo[2][0] == 't')\n",
    "]\n",
    "\n",
    "print(len(all_combinations))"
   ]
  },
  {
   "cell_type": "code",
   "execution_count": null,
   "id": "c9cf4e74",
   "metadata": {},
   "outputs": [],
   "source": [
    "list_of_lans = []\n",
    "\n",
    "# Here, we initiate a list of lans. The first member of each lan party is\n",
    "# one of string in the node list, where only one instance of each node is\n",
    "for node in node_list:\n",
    "    list_of_lans.append([node])\n",
    " \n",
    "# Here, we start going through each node in the list\n",
    "for node in node_list:\n",
    "    # Then we go through each lans in the list of lans\n",
    "    for lan in list_of_lans:\n",
    "        # If the node is not already in the lan party, we add it\n",
    "        if node not in lan:\n",
    "            lan.append(node)\n",
    "            # Then we see if each lan member is connected to every other lan member\n",
    "            for member in lan:\n",
    "                for other_member in lan:\n",
    "                    # Here we do it negatively, if there is one case where a lan member is not\n",
    "                    # connected to another member other then himself, we stop and remove the added\n",
    "                    # lan member\n",
    "                    # This huge loop chain gives us in the end the biggest lan party where members\n",
    "                    # are fully interconnected. This is also a brute force approach because we look\n",
    "                    # at all the possibilities\n",
    "                    if member != other_member and other_member not in tree[member]:\n",
    "                        lan.pop()\n",
    "\n",
    "\n",
    "# Here we extract the biggest lan party\n",
    "biggest_lan = []\n",
    "for lan in list_of_lans:\n",
    "    if len(lan) > len(biggest_lan):\n",
    "        biggest_lan = lan\n",
    "\n",
    "# We sort it\n",
    "biggest_lan.sort()\n",
    "\n",
    "# We join it with commas and this gives the final answer\n",
    "print(\",\".join(biggest_lan))"
   ]
  }
 ],
 "metadata": {
  "kernelspec": {
   "display_name": "Python 3 (ipykernel)",
   "language": "python",
   "name": "python3"
  },
  "language_info": {
   "codemirror_mode": {
    "name": "ipython",
    "version": 3
   },
   "file_extension": ".py",
   "mimetype": "text/x-python",
   "name": "python",
   "nbconvert_exporter": "python",
   "pygments_lexer": "ipython3",
   "version": "3.9.13"
  }
 },
 "nbformat": 4,
 "nbformat_minor": 5
}
