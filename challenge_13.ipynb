{
 "cells": [
  {
   "cell_type": "markdown",
   "id": "786241e2",
   "metadata": {},
   "source": [
    "# Advent of code 2024\n",
    "## Challenge 13"
   ]
  },
  {
   "cell_type": "markdown",
   "id": "495582e6",
   "metadata": {},
   "source": [
    "## Part 1\n",
    "### https://adventofcode.com/2024/day/13"
   ]
  },
  {
   "cell_type": "markdown",
   "id": "7fd131ed",
   "metadata": {},
   "source": [
    "I struggled for this challenge. I was just not seeing the solution for quite a long time. For part 1, the solution that I used was to pretty much iterate through all possible combinations and see if it met specifications. It worked for part 1 because the numbers used were not so big. For part 2, it did not work. Then I thought that there would be a mathematical solution. A specific formula to use. But I could not figure it out. I did think aobut the formula for two lines intersection. But the starting formula for this solution is Ax + Bx + C = 0. But then I thought that we did not have any C variable in this problem. I did read about the subreddit which mentioned that the solution was indeed mathematic. At one point when thinking about it I realized that, in this case, the C values was the position of the prize. I did not pick up that up. When I did, it boiled down to implementing the formula for intersecting lines and then everything went fine. I also used ChatGPT to help find the file reading logic, get the regex and extracting all the matches."
   ]
  },
  {
   "cell_type": "code",
   "execution_count": 6,
   "id": "7cee82bc",
   "metadata": {},
   "outputs": [],
   "source": [
    "# I used this object class for part 1 but it revealed itself to not be necessary\n",
    "class Game:\n",
    "  def __init__(self, button_a,button_b,prize_position):\n",
    "    self.button_a = button_a\n",
    "    self.button_b = button_b\n",
    "    self.prize_position = prize_position"
   ]
  },
  {
   "cell_type": "code",
   "execution_count": 7,
   "id": "6324ac0e",
   "metadata": {},
   "outputs": [],
   "source": [
    "import re\n",
    "\n",
    "# Reading the data input file and importing all of it at once\n",
    "infile = open(\"challenge_13_input.txt\", \"r\")\n",
    "# Read all the files into a list of lists for every line\n",
    "lines = infile.readlines()\n",
    "\n",
    "games_list = []\n",
    "\n",
    "# Go through the list and extract the number values for each game\n",
    "while lines != []:\n",
    "    button_a = re.findall(r'\\d+', lines[0])\n",
    "    button_a = [int(button_a[0]),int(button_a[1])]\n",
    "    \n",
    "    button_b = re.findall(r'\\d+', lines[1])\n",
    "    button_b = [int(button_b[0]),int(button_b[1])]\n",
    "    \n",
    "    prize_position = re.findall(r'\\d+', lines[2])\n",
    "    prize_position = [int(prize_position[0]),int(prize_position[1])]\n",
    "    \n",
    "    games_list.append(Game(button_a,button_b,prize_position))\n",
    "    \n",
    "    # reduce the list when the information of the game is extracted\n",
    "    lines.pop(0)\n",
    "    lines.pop(0)\n",
    "    lines.pop(0)\n",
    "    if lines != []:\n",
    "        lines.pop(0)"
   ]
  },
  {
   "cell_type": "code",
   "execution_count": null,
   "id": "e3b1652c",
   "metadata": {},
   "outputs": [],
   "source": [
    "token_price = 0\n",
    "total_token_price = 0\n",
    "\n",
    "# In this solution, given that the specifications mentioned that each button would not be pressed more then 100 times,\n",
    "# I started iterating through the possible button pressing combinations from 100, and going down. For each game\n",
    "for game in games_list:\n",
    "    for button_a_counter in reversed(range(100)):\n",
    "        for button_b_counter in reversed(range(100)):\n",
    "            # Find the position based on the current combination\n",
    "            current_position = [(game.button_a[0] * button_a_counter) + (game.button_b[0] * button_b_counter), (game.button_a[1] * button_a_counter) + (game.button_b[1] * button_b_counter)]\n",
    "            # If one of the positions is now lower then that of the prize, we stop the iteration\n",
    "            if current_position[0] < game.prize_position[0] or current_position[1] < game.prize_position[1]:\n",
    "                break\n",
    "            # If the current position is at the prize position, calculate the token price\n",
    "            if current_position == game.prize_position:\n",
    "                token_price = (button_a_counter * 3) + button_b_counter\n",
    "                break\n",
    "    total_token_price += token_price\n",
    "    wins = 0\n",
    "\n",
    "print(total_token_price)"
   ]
  },
  {
   "cell_type": "markdown",
   "id": "7b026788",
   "metadata": {},
   "source": [
    "This is the solution based on the intersectine lines equation"
   ]
  },
  {
   "cell_type": "code",
   "execution_count": null,
   "id": "07854c14",
   "metadata": {},
   "outputs": [],
   "source": [
    "import re\n",
    "\n",
    "# Reading the data input file and importing all of it at once\n",
    "infile = open(\"challenge_13_input.txt\", \"r\")\n",
    "lines = infile.readlines()\n",
    "\n",
    "total_token_price = 0\n",
    "\n",
    "while lines != []:\n",
    "    button_a = re.findall(r'\\d+', lines[0])\n",
    "    button_a = [int(button_a[0]),int(button_a[1])]\n",
    "    \n",
    "    button_b = re.findall(r'\\d+', lines[1])\n",
    "    button_b = [int(button_b[0]),int(button_b[1])]\n",
    "    \n",
    "    prize_position = re.findall(r'\\d+', lines[2])\n",
    "    prize_position = [int(prize_position[0]),int(prize_position[1])]\n",
    "    # This is done to achieve the limit intersection equation of \"ax1 + bx1 + c1 = 0\".\n",
    "    # it starts as ax1 + bx1 = c1, and so to move it to the left of the equation, it has to be negated. So it is multiplied\n",
    "    # by -1\n",
    "    prize_position = [prize_position[0] * -1, prize_position[1] * -1]\n",
    "    \n",
    "    steps_x_axis = ((button_b[0] * prize_position[1]) - (button_b[1] * prize_position[0])) / ((button_a[0] * button_b[1]) - (button_a[1] * button_b[0]))\n",
    "    steps_y_axis = ((prize_position[0] * button_a[1]) - (prize_position[1] * button_a[0])) / ((button_a[0] * button_b[1]) - (button_a[1] * button_b[0]))\n",
    "    \n",
    "    # Nice that floats has this built-in methods in Python to check if they do not have decimals\n",
    "    # For the intersection operation, there is an intersection if the values resulting fromm the equations above \n",
    "    # do not have decimals\n",
    "    if steps_x_axis.is_integer() and steps_y_axis.is_integer():\n",
    "        total_token_price += int((steps_x_axis * 3) + steps_y_axis)\n",
    "    \n",
    "    lines.pop(0)\n",
    "    lines.pop(0)\n",
    "    lines.pop(0)\n",
    "    if lines != []:\n",
    "        lines.pop(0)\n",
    "\n",
    "print(total_token_price)"
   ]
  },
  {
   "cell_type": "markdown",
   "id": "1a6b2668",
   "metadata": {},
   "source": [
    "## Part 2"
   ]
  },
  {
   "cell_type": "markdown",
   "id": "97109259",
   "metadata": {},
   "source": [
    "The solution below is the same as the one above, except that we added 10000000000000 to every prize position to meet the \n",
    "specification"
   ]
  },
  {
   "cell_type": "code",
   "execution_count": null,
   "id": "3e0e0678",
   "metadata": {},
   "outputs": [],
   "source": [
    "import re\n",
    "\n",
    "# Reading the data input file and importing all of it at once\n",
    "infile = open(\"challenge_13_input.txt\", \"r\")\n",
    "lines = infile.readlines()\n",
    "\n",
    "total_token_price = 0\n",
    "extra = 10000000000000\n",
    "\n",
    "while lines != []:\n",
    "    button_a = re.findall(r'\\d+', lines[0])\n",
    "    button_a = [int(button_a[0]),int(button_a[1])]\n",
    "    \n",
    "    button_b = re.findall(r'\\d+', lines[1])\n",
    "    button_b = [int(button_b[0]),int(button_b[1])]\n",
    "    \n",
    "    prize_position = re.findall(r'\\d+', lines[2])\n",
    "    prize_position = [int(prize_position[0]) + extra,int(prize_position[1]) + extra]\n",
    "    prize_position = [prize_position[0] * -1, prize_position[1] * -1]\n",
    "    \n",
    "    steps_x_axis = ((button_b[0] * prize_position[1]) - (button_b[1] * prize_position[0])) / ((button_a[0] * button_b[1]) - (button_a[1] * button_b[0]))\n",
    "    steps_y_axis = ((prize_position[0] * button_a[1]) - (prize_position[1] * button_a[0])) / ((button_a[0] * button_b[1]) - (button_a[1] * button_b[0]))\n",
    "    \n",
    "    if steps_x_axis.is_integer() and steps_y_axis.is_integer():\n",
    "        total_token_price += int((steps_x_axis * 3) + steps_y_axis)\n",
    "    \n",
    "    lines.pop(0)\n",
    "    lines.pop(0)\n",
    "    lines.pop(0)\n",
    "    if lines != []:\n",
    "        lines.pop(0)\n",
    "\n",
    "print(total_token_price)"
   ]
  }
 ],
 "metadata": {
  "kernelspec": {
   "display_name": "Python 3 (ipykernel)",
   "language": "python",
   "name": "python3"
  },
  "language_info": {
   "codemirror_mode": {
    "name": "ipython",
    "version": 3
   },
   "file_extension": ".py",
   "mimetype": "text/x-python",
   "name": "python",
   "nbconvert_exporter": "python",
   "pygments_lexer": "ipython3",
   "version": "3.9.13"
  }
 },
 "nbformat": 4,
 "nbformat_minor": 5
}
