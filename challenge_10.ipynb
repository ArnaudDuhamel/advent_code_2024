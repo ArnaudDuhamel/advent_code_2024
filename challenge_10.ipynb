{
 "cells": [
  {
   "cell_type": "markdown",
   "id": "e7fdc052",
   "metadata": {},
   "source": [
    "# Advent of code 2024\n",
    "## Challenge 10"
   ]
  },
  {
   "cell_type": "markdown",
   "id": "d31142d9",
   "metadata": {},
   "source": [
    "## Part 1\n",
    "### https://adventofcode.com/2024/day/10"
   ]
  },
  {
   "cell_type": "markdown",
   "id": "b6e6dd7c",
   "metadata": {},
   "source": [
    "My traversing algorithm is based from the \"Rat in a maze\" backtracking algorithm from geeks for geeks which can be found here: https://www.geeksforgeeks.org/rat-in-a-maze/"
   ]
  },
  {
   "cell_type": "code",
   "execution_count": 20,
   "id": "2b48e04e",
   "metadata": {},
   "outputs": [],
   "source": [
    "# Reading the data input file\n",
    "input_file = open(\"challenge_10_input.txt\", \"r\")\n",
    "maze = []\n",
    "start_locations = []\n",
    "\n",
    "# The input line is read in as a list of ints\n",
    "for line in input_file:\n",
    "    input_data = list(line.strip())\n",
    "    maze.append(input_data)\n",
    "\n",
    "# The list is tranformed in a list of ints, and the starting positions are extracted\n",
    "for top_index,line in enumerate(maze):\n",
    "    for index,position in enumerate(line):\n",
    "        if (position == '.'):\n",
    "            maze[top_index][index] = 20\n",
    "        else:\n",
    "            # Starting positions are extracted\n",
    "            if position == '0':\n",
    "                start_locations.append(tuple([top_index,index]))\n",
    "            maze[top_index][index] = int(position)"
   ]
  },
  {
   "cell_type": "code",
   "execution_count": null,
   "id": "f3b74d15",
   "metadata": {},
   "outputs": [],
   "source": [
    "# The directions to take steps\n",
    "directions = [(0,1),(1,0),(-1,0),(0,-1)]\n",
    "# Maze boudaries to avoid going out of bounds in the loop\n",
    "maze_boundaries = [len(maze),len(maze[1])]\n",
    "\n",
    "# Is the position within bounds and is it allowed to step on it\n",
    "def is_valid(position, maze_limits, maze):\n",
    "    return 0 <= position[0] < maze_limits[0] and 0 <= position[1] < maze_limits[1] and maze[position[0]][position[1]] != 20\n",
    "\n",
    "# This is the walking function, it is recursive\n",
    "def find_path(position, maze, maze_limits, found_destinations):\n",
    "    # If we find a 9 for the first time, recursion stops and that found destination is added to the the list\n",
    "    # The addition works recursively as well, because the function modifies the original list\n",
    "    if maze[position[0]][position[1]] == 9 and position not in found_destinations:\n",
    "        found_destinations.append(position)\n",
    "        return\n",
    "\n",
    "    # We take a step in every possible direction if the next position is exactly 1 value higher then the previous position\n",
    "    for i in range(4):\n",
    "        # Calculate the next position according to direction\n",
    "        next_position = [position[0] + directions[i][0], position[1] + directions[i][1]]\n",
    "        # We check if the new step is valid with the function and if the new position is exactly 1 value higher then the previsou\n",
    "        # position\n",
    "        if is_valid(next_position, maze_boundaries, maze) and maze[next_position[0]][next_position[1]] - maze[position[0]][position[1]] == 1:\n",
    "            # If the new position is valid, we recurse\n",
    "            find_path(next_position, maze, maze_limits, found_destinations)\n",
    "\n",
    "result = 0\n",
    "found_destinations = []\n",
    "\n",
    "# we run the function for every starting position extracted earlier\n",
    "for starting_position in start_locations:\n",
    "    # We find all the 9s that the can be reached from the starting position\n",
    "    find_path(starting_position, maze, maze_boundaries, found_destinations)\n",
    "    # The length is the amount of 9s found\n",
    "    result += len(found_destinations)\n",
    "    # We reset the 9s found for the next iteration\n",
    "    found_destinations = []\n",
    "    \n",
    "print(result)"
   ]
  },
  {
   "cell_type": "markdown",
   "id": "459e49f1",
   "metadata": {},
   "source": [
    "## Part 2"
   ]
  },
  {
   "cell_type": "code",
   "execution_count": 9,
   "id": "3522663b",
   "metadata": {},
   "outputs": [],
   "source": [
    "# Reading the data input file\n",
    "input_file = open(\"challenge_10_input.txt\", \"r\")\n",
    "maze = []\n",
    "start_locations = []\n",
    "\n",
    "for line in input_file:\n",
    "    input_data = list(line.strip())\n",
    "    maze.append(input_data)\n",
    "    \n",
    "for top_index,line in enumerate(maze):\n",
    "    for index,position in enumerate(line):\n",
    "        if (position == '.'):\n",
    "            maze[top_index][index] = 20\n",
    "        else:\n",
    "            if position == '0':\n",
    "                start_locations.append(tuple([top_index,index]))\n",
    "            maze[top_index][index] = int(position)"
   ]
  },
  {
   "cell_type": "code",
   "execution_count": null,
   "id": "72743de0",
   "metadata": {},
   "outputs": [],
   "source": [
    "directions = [(0,1),(1,0),(-1,0),(0,-1)]\n",
    "maze_boundaries = [len(maze[0]),len(maze[1])]\n",
    "\n",
    "def is_valid(position, maze_limits, maze):\n",
    "    return 0 <= position[0] < maze_limits[0] and 0 <= position[1] < maze_limits[1] and maze[position[0]][position[1]] != 20\n",
    "\n",
    "def find_path(position, maze, maze_limits, ans):\n",
    "    if maze[position[0]][position[1]] == 9:\n",
    "        # The only difference with the first part is that here, we add to the total every time we reach a 9, even if it was\n",
    "        # reached before.\n",
    "        # Because here we are looking for the amount of paths leading to a 9\n",
    "        # If we find a 9, we add 1 to the total.\n",
    "        ans[0] += 1\n",
    "        return\n",
    "\n",
    "    for i in range(4):\n",
    "        next_position = [position[0] + directions[i][0], position[1] + directions[i][1]]\n",
    "        if is_valid(next_position, maze_boundaries, maze) and maze[next_position[0]][next_position[1]] - maze[position[0]][position[1]] == 1:\n",
    "            find_path(next_position, maze, maze_limits, ans)\n",
    "\n",
    "            \n",
    "# I put the int in a list so that adding to it in the function would be preserved\n",
    "result = [0]\n",
    "\n",
    "# Here, we don't need to look over a list of found 9s because it does not have to be a unique occurence.\n",
    "for starting_position in start_locations:\n",
    "    find_path(starting_position, maze, maze_boundaries, result)\n",
    "    \n",
    "print(result[0])"
   ]
  }
 ],
 "metadata": {
  "kernelspec": {
   "display_name": "Python 3 (ipykernel)",
   "language": "python",
   "name": "python3"
  },
  "language_info": {
   "codemirror_mode": {
    "name": "ipython",
    "version": 3
   },
   "file_extension": ".py",
   "mimetype": "text/x-python",
   "name": "python",
   "nbconvert_exporter": "python",
   "pygments_lexer": "ipython3",
   "version": "3.9.13"
  }
 },
 "nbformat": 4,
 "nbformat_minor": 5
}
