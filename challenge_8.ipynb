{
 "cells": [
  {
   "cell_type": "markdown",
   "id": "1a514e8e",
   "metadata": {},
   "source": [
    "# Advent of code 2024\n",
    "## Challenge 8"
   ]
  },
  {
   "cell_type": "markdown",
   "id": "a7f42b9a",
   "metadata": {},
   "source": [
    "This challenge went smoothly for the most part."
   ]
  },
  {
   "cell_type": "markdown",
   "id": "c04cbb36",
   "metadata": {},
   "source": [
    "## Part 1\n",
    "### https://adventofcode.com/2024/day/8"
   ]
  },
  {
   "cell_type": "code",
   "execution_count": null,
   "id": "a6768a6f",
   "metadata": {},
   "outputs": [],
   "source": [
    "# Reading the data input file\n",
    "input_file = open(\"challenge_8_input.txt\", \"r\")\n",
    "\n",
    "antenna_dictionnary = {}\n",
    "zone_list = []\n",
    "temporary_antenna_position_list = []\n",
    "starting_antenna = ()\n",
    "antinodes_position_list = []\n",
    "distance = ()\n",
    "antinode_position = ()\n",
    "antinode_position_list = []\n",
    "max_height_index = 0\n",
    "max_width_index = 0\n",
    "\n",
    "# Transforming the lines in a map where the key is the number that must be reached\n",
    "for line in input_file:\n",
    "    input_data = list(line.strip())\n",
    "    zone_list.append(input_data)\n",
    "\n",
    "# This data is extracted to delimit the boundaries of the zone.\n",
    "max_height_index = len(zone_list) - 1\n",
    "max_width_index = len(zone_list[0]) - 1\n",
    "\n",
    "# Here, what we do is store all of the positions of the towers in a map. The key is the tower type, and \n",
    "# the value is a list of tuples, where each tuple indicates the position of a tower of this type\n",
    "for length_index,nested_list in enumerate(zone_list):\n",
    "    for width_index,value in enumerate(nested_list):\n",
    "        if(value != '.'):\n",
    "            if value not in antenna_dictionnary:\n",
    "                antenna_dictionnary[value] = []\n",
    "            antenna_dictionnary[value].append(tuple([length_index,width_index]))\n",
    "\n",
    "# We then iterate through every key value pair to find all the antinodes\n",
    "for key in antenna_dictionnary:\n",
    "    for index in range(len(antenna_dictionnary[key])):\n",
    "        # Here, we extract one tower position at a time from the list. And we have to preserve \n",
    "        # every other tower position, which is why we make a copy of the list at every iteration\n",
    "        temporary_antenna_position_list = antenna_dictionnary[key].copy()\n",
    "        starting_antenna = temporary_antenna_position_list.pop(index)\n",
    "        # We iterate through all the remaining tower position\n",
    "        for value in temporary_antenna_position_list:\n",
    "            # Here, we calculate the distance between the first tower that was extracted before and the other through which we\n",
    "            # iterate. It is actually also important because this distance provides a direction. Which is why we have to \n",
    "            # have every tower be the \"main\" tower.\n",
    "            distance = tuple([value[0] - starting_antenna[0],value[1] - starting_antenna[1]])\n",
    "            # We then calculate the position of the antinode.\n",
    "            antinode_position = tuple([starting_antenna[0] + distance[0] + distance[0], starting_antenna[1] + distance[1] + distance[1]])\n",
    "            # If the antinode is within the bounds of the zone, and there isn't a node already on it, it will be added to the \n",
    "            # antinode list\n",
    "            if (antinode_position[0] >= 0 and antinode_position[0] <= max_height_index and antinode_position[1] >= 0 and antinode_position[1] <= max_width_index and antinode_position not in antinode_position_list):\n",
    "                antinode_position_list.append(antinode_position)\n",
    "\n",
    "# The length of the list is the answer, the amount of unique antinode positions.             \n",
    "print(len(antinode_position_list))"
   ]
  },
  {
   "cell_type": "markdown",
   "id": "590503e6",
   "metadata": {},
   "source": [
    "## Part 2"
   ]
  },
  {
   "cell_type": "markdown",
   "id": "6b1c00b9",
   "metadata": {},
   "source": [
    "On this part of the challenge, I got a bit stuck on the while loop. It was not set up correctly. Unfortunately, I did not really understand what was wrong about. "
   ]
  },
  {
   "cell_type": "code",
   "execution_count": null,
   "id": "dcee860f",
   "metadata": {},
   "outputs": [],
   "source": [
    "# Reading the data input file\n",
    "input_file = open(\"challenge_8_input.txt\", \"r\")\n",
    "\n",
    "antenna_dictionnary = {}\n",
    "zone_list = []\n",
    "temporary_antenna_position_list = []\n",
    "starting_antenna = ()\n",
    "antinodes_position_list = []\n",
    "distance = ()\n",
    "antinode_position = ()\n",
    "antinode_position_list = []\n",
    "max_height_index = 0\n",
    "max_width_index = 0\n",
    "\n",
    "for line in input_file:\n",
    "    input_data = list(line.strip())\n",
    "    zone_list.append(input_data)\n",
    "\n",
    "max_height_index = len(zone_list) - 1\n",
    "max_width_index = len(zone_list[0]) - 1\n",
    "    \n",
    "for length_index,nested_list in enumerate(zone_list):\n",
    "    for width_index,value in enumerate(nested_list):\n",
    "        if(value != '.'):\n",
    "            if value not in antenna_dictionnary:\n",
    "                antenna_dictionnary[value] = []\n",
    "            antenna_dictionnary[value].append(tuple([length_index,width_index]))        \n",
    "\n",
    "for key in antenna_dictionnary:\n",
    "    if len(antenna_dictionnary[key]) > 1:\n",
    "        for position in antenna_dictionnary[key]:\n",
    "            if position not in antinode_position_list:\n",
    "                antinode_position_list.append(position)\n",
    "                \n",
    "    for index in range(len(antenna_dictionnary[key])):\n",
    "        temporary_antenna_position_list = antenna_dictionnary[key].copy()\n",
    "        starting_antenna = temporary_antenna_position_list.pop(index)\n",
    "        for value in temporary_antenna_position_list:\n",
    "            distance = tuple([value[0] - starting_antenna[0],value[1] - starting_antenna[1]])\n",
    "            antinode_position = tuple([starting_antenna[0] + distance[0] + distance[0], starting_antenna[1] + distance[1] + distance[1]])\n",
    "            # That's the only difference with the part 1 of the challenge. Here, after finding the position of the first antinode,\n",
    "            # we enter a while loop to find every possible antinode. The while loop stops running when the antinode position \n",
    "            # goes out of the zone.\n",
    "            while (antinode_position[0] >= 0 and antinode_position[0] <= max_height_index and antinode_position[1] >= 0 and antinode_position[1] <= max_width_index):\n",
    "                # We check if the antinode position is already there\n",
    "                if (antinode_position not in antinode_position_list):\n",
    "                    antinode_position_list.append(antinode_position)\n",
    "                # We take a step to the next antinode\n",
    "                antinode_position = tuple([antinode_position[0] + distance[0], antinode_position[1] + distance[1]])\n",
    "\n",
    "print(len(antinode_position_list))"
   ]
  }
 ],
 "metadata": {
  "kernelspec": {
   "display_name": "Python 3 (ipykernel)",
   "language": "python",
   "name": "python3"
  },
  "language_info": {
   "codemirror_mode": {
    "name": "ipython",
    "version": 3
   },
   "file_extension": ".py",
   "mimetype": "text/x-python",
   "name": "python",
   "nbconvert_exporter": "python",
   "pygments_lexer": "ipython3",
   "version": "3.9.13"
  }
 },
 "nbformat": 4,
 "nbformat_minor": 5
}
